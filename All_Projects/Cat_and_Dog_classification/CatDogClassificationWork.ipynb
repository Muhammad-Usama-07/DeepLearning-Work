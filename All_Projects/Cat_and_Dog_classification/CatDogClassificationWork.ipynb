{
 "cells": [
  {
   "cell_type": "markdown",
   "id": "d7fe2ba1",
   "metadata": {},
   "source": [
    "# Libraries"
   ]
  },
  {
   "cell_type": "code",
   "execution_count": 4,
   "id": "3378360e",
   "metadata": {},
   "outputs": [],
   "source": [
    "import pandas as pd\n",
    "import numpy as np\n",
    "import os, shutil\n",
    "from tensorflow.keras import models\n",
    "from tensorflow.keras import layers "
   ]
  },
  {
   "cell_type": "markdown",
   "id": "26cc741c",
   "metadata": {},
   "source": [
    "# Taking Orignal Data"
   ]
  },
  {
   "cell_type": "code",
   "execution_count": 3,
   "id": "1a72bc51",
   "metadata": {},
   "outputs": [],
   "source": [
    "original_dataset_dir = 'F:/Saylani.ai/Artificial Intelligence/dogs-vs-cats/train'"
   ]
  },
  {
   "cell_type": "markdown",
   "id": "4d592990",
   "metadata": {},
   "source": [
    "# Creating Base Directory"
   ]
  },
  {
   "cell_type": "code",
   "execution_count": 5,
   "id": "e82db544",
   "metadata": {},
   "outputs": [],
   "source": [
    "base_dir = 'F:/Saylani.ai/Artificial Intelligence/DeepLearning-Work/Cat_and_Dog_classification/Data'\n",
    "os.mkdir(base_dir)"
   ]
  },
  {
   "cell_type": "markdown",
   "id": "d0f0ae79",
   "metadata": {},
   "source": [
    "## Directories for the training, validation, and test splits"
   ]
  },
  {
   "cell_type": "code",
   "execution_count": 6,
   "id": "5219d572",
   "metadata": {},
   "outputs": [],
   "source": [
    "# Train Directory\n",
    "train_dir = os.path.join(base_dir, 'train')\n",
    "os.mkdir(train_dir)\n",
    "\n",
    "# Validation Directory\n",
    "validation_dir = os.path.join(base_dir, 'validation')\n",
    "os.mkdir(validation_dir)\n",
    "\n",
    "# Test Directory\n",
    "test_dir = os.path.join(base_dir, 'test')\n",
    "os.mkdir(test_dir)"
   ]
  },
  {
   "cell_type": "markdown",
   "id": "dd231d77",
   "metadata": {},
   "source": [
    "## Sub Directory with \"training\" cat and dog pictures"
   ]
  },
  {
   "cell_type": "code",
   "execution_count": 7,
   "id": "01404383",
   "metadata": {},
   "outputs": [],
   "source": [
    "# Cat Picture Directory\n",
    "train_cats_dir = os.path.join(train_dir, 'cats')\n",
    "os.mkdir(train_cats_dir)\n",
    "\n",
    "# Dog Picture Directory\n",
    "train_dogs_dir = os.path.join(train_dir, 'dogs')\n",
    "os.mkdir(train_dogs_dir)"
   ]
  },
  {
   "cell_type": "markdown",
   "id": "47d52551",
   "metadata": {},
   "source": [
    "## Sub Directory with \"validation\" cat and dog pictures"
   ]
  },
  {
   "cell_type": "code",
   "execution_count": 8,
   "id": "7c3e912f",
   "metadata": {},
   "outputs": [],
   "source": [
    "# Cat Picture Directory\n",
    "validation_cats_dir = os.path.join(validation_dir, 'cats')\n",
    "os.mkdir(validation_cats_dir)\n",
    "\n",
    "# Dog Picture Directory\n",
    "validation_dogs_dir = os.path.join(validation_dir, 'dogs')\n",
    "os.mkdir(validation_dogs_dir)"
   ]
  },
  {
   "cell_type": "markdown",
   "id": "5cbd6942",
   "metadata": {},
   "source": [
    "## Sub Directory with \"test\" cat and dog pictures"
   ]
  },
  {
   "cell_type": "code",
   "execution_count": 9,
   "id": "d8eba51a",
   "metadata": {},
   "outputs": [],
   "source": [
    "# Cat Picture Directory\n",
    "test_cats_dir = os.path.join(test_dir, 'cats')\n",
    "os.mkdir(test_cats_dir)\n",
    "\n",
    "# Dog Picture Directory\n",
    "test_dogs_dir = os.path.join(test_dir, 'dogs')\n",
    "os.mkdir(test_dogs_dir)"
   ]
  },
  {
   "cell_type": "markdown",
   "id": "f0804139",
   "metadata": {},
   "source": [
    "# Copying Files"
   ]
  },
  {
   "cell_type": "markdown",
   "id": "9f5e2694",
   "metadata": {},
   "source": [
    "## i. Copies the first \"1,000\" cat images to \"train cats directory\""
   ]
  },
  {
   "cell_type": "code",
   "execution_count": 10,
   "id": "64910312",
   "metadata": {},
   "outputs": [],
   "source": [
    "fnames = ['cat.{}.jpg'.format(i) for i in range(1000)]\n",
    "for fname in fnames:\n",
    "    src = os.path.join(original_dataset_dir, fname)\n",
    "    dst = os.path.join(train_cats_dir, fname)\n",
    "    shutil.copyfile(src, dst)"
   ]
  },
  {
   "cell_type": "markdown",
   "id": "7f236956",
   "metadata": {},
   "source": [
    "## ii. Copies the next \"500\" cat images to \"validation cats directory\""
   ]
  },
  {
   "cell_type": "code",
   "execution_count": 12,
   "id": "c3f9a9b3",
   "metadata": {},
   "outputs": [],
   "source": [
    "fnames = ['cat.{}.jpg'.format(i) for i in range(1000, 1500)]\n",
    "for fname in fnames:\n",
    "    src = os.path.join(original_dataset_dir, fname)\n",
    "    dst = os.path.join(validation_cats_dir, fname)\n",
    "    shutil.copyfile(src, dst)"
   ]
  },
  {
   "cell_type": "markdown",
   "id": "b215e929",
   "metadata": {},
   "source": [
    "## iii. Copies the next \"500\" cat images to \"test cats directory\""
   ]
  },
  {
   "cell_type": "code",
   "execution_count": 13,
   "id": "f0fea1d2",
   "metadata": {},
   "outputs": [],
   "source": [
    "fnames = ['cat.{}.jpg'.format(i) for i in range(1500, 2000)]\n",
    "for fname in fnames:\n",
    "    src = os.path.join(original_dataset_dir, fname)\n",
    "    dst = os.path.join(test_cats_dir, fname)\n",
    "    shutil.copyfile(src, dst)"
   ]
  },
  {
   "cell_type": "markdown",
   "id": "d0860327",
   "metadata": {},
   "source": [
    "## iv. Copies the first \"1,000\" cat images to \"train dog directory\""
   ]
  },
  {
   "cell_type": "code",
   "execution_count": 14,
   "id": "19cc4289",
   "metadata": {},
   "outputs": [],
   "source": [
    "fnames = ['dog.{}.jpg'.format(i) for i in range(1000)]\n",
    "for fname in fnames:\n",
    "    src = os.path.join(original_dataset_dir, fname)\n",
    "    dst = os.path.join(train_dogs_dir, fname)\n",
    "    shutil.copyfile(src, dst)"
   ]
  },
  {
   "cell_type": "markdown",
   "id": "934eb007",
   "metadata": {},
   "source": [
    "## v. Copies the next \"500\" dog images to \"validation dog directory\""
   ]
  },
  {
   "cell_type": "code",
   "execution_count": 16,
   "id": "e9598d05",
   "metadata": {},
   "outputs": [],
   "source": [
    "fnames = ['dog.{}.jpg'.format(i) for i in range(1000, 1500)]\n",
    "for fname in fnames:\n",
    "    src = os.path.join(original_dataset_dir, fname)\n",
    "    dst = os.path.join(validation_dogs_dir, fname)\n",
    "    shutil.copyfile(src, dst)"
   ]
  },
  {
   "cell_type": "markdown",
   "id": "6575c996",
   "metadata": {},
   "source": [
    "## vi. Copies the next \"500\" dog images to \"test dog directory\""
   ]
  },
  {
   "cell_type": "code",
   "execution_count": 17,
   "id": "3b14505f",
   "metadata": {},
   "outputs": [],
   "source": [
    "fnames = ['dog.{}.jpg'.format(i) for i in range(1500, 2000)]\n",
    "for fname in fnames:\n",
    "    src = os.path.join(original_dataset_dir, fname)\n",
    "    dst = os.path.join(test_dogs_dir, fname)\n",
    "    shutil.copyfile(src, dst)"
   ]
  },
  {
   "cell_type": "markdown",
   "id": "d345f5f0",
   "metadata": {},
   "source": [
    "# check, how many pictures are in each training split (train/validation/test)"
   ]
  },
  {
   "cell_type": "code",
   "execution_count": 19,
   "id": "d9f9e81f",
   "metadata": {},
   "outputs": [
    {
     "name": "stdout",
     "output_type": "stream",
     "text": [
      "total training cat images: 1000\n",
      "total training dog images: 1000\n",
      "total validation cat images: 500\n",
      "total validation dog images: 500\n",
      "total test cat images: 500\n",
      "total test dog images: 500\n"
     ]
    }
   ],
   "source": [
    "print('total training cat images:', len(os.listdir(train_cats_dir)))\n",
    "print('total training dog images:', len(os.listdir(train_dogs_dir)))\n",
    "print('total validation cat images:', len(os.listdir(validation_cats_dir)))\n",
    "print('total validation dog images:', len(os.listdir(validation_dogs_dir)))\n",
    "print('total test cat images:', len(os.listdir(test_cats_dir)))\n",
    "print('total test dog images:', len(os.listdir(test_dogs_dir)))"
   ]
  },
  {
   "cell_type": "markdown",
   "id": "b634acf5",
   "metadata": {},
   "source": [
    "# Building Model"
   ]
  },
  {
   "cell_type": "code",
   "execution_count": 20,
   "id": "fc7805f6",
   "metadata": {},
   "outputs": [],
   "source": [
    "from tensorflow.keras import layers\n",
    "from tensorflow.keras import models\n",
    "model = models.Sequential()\n",
    "model.add(layers.Conv2D(32, (3, 3), activation='relu',\n",
    "input_shape=(150, 150, 3)))\n",
    "model.add(layers.MaxPooling2D((2, 2)))\n",
    "model.add(layers.Conv2D(64, (3, 3), activation='relu'))\n",
    "model.add(layers.MaxPooling2D((2, 2)))\n",
    "model.add(layers.Conv2D(128, (3, 3), activation='relu'))\n",
    "model.add(layers.MaxPooling2D((2, 2)))\n",
    "model.add(layers.Conv2D(128, (3, 3), activation='relu'))\n",
    "model.add(layers.MaxPooling2D((2, 2)))\n",
    "model.add(layers.Flatten())\n",
    "model.add(layers.Dense(512, activation='relu'))\n",
    "model.add(layers.Dense(1, activation='sigmoid'))"
   ]
  },
  {
   "cell_type": "code",
   "execution_count": 21,
   "id": "87e1aacc",
   "metadata": {},
   "outputs": [
    {
     "name": "stdout",
     "output_type": "stream",
     "text": [
      "Model: \"sequential\"\n",
      "_________________________________________________________________\n",
      "Layer (type)                 Output Shape              Param #   \n",
      "=================================================================\n",
      "conv2d (Conv2D)              (None, 148, 148, 32)      896       \n",
      "_________________________________________________________________\n",
      "max_pooling2d (MaxPooling2D) (None, 74, 74, 32)        0         \n",
      "_________________________________________________________________\n",
      "conv2d_1 (Conv2D)            (None, 72, 72, 64)        18496     \n",
      "_________________________________________________________________\n",
      "max_pooling2d_1 (MaxPooling2 (None, 36, 36, 64)        0         \n",
      "_________________________________________________________________\n",
      "conv2d_2 (Conv2D)            (None, 34, 34, 128)       73856     \n",
      "_________________________________________________________________\n",
      "max_pooling2d_2 (MaxPooling2 (None, 17, 17, 128)       0         \n",
      "_________________________________________________________________\n",
      "conv2d_3 (Conv2D)            (None, 15, 15, 128)       147584    \n",
      "_________________________________________________________________\n",
      "max_pooling2d_3 (MaxPooling2 (None, 7, 7, 128)         0         \n",
      "_________________________________________________________________\n",
      "flatten (Flatten)            (None, 6272)              0         \n",
      "_________________________________________________________________\n",
      "dense (Dense)                (None, 512)               3211776   \n",
      "_________________________________________________________________\n",
      "dense_1 (Dense)              (None, 1)                 513       \n",
      "=================================================================\n",
      "Total params: 3,453,121\n",
      "Trainable params: 3,453,121\n",
      "Non-trainable params: 0\n",
      "_________________________________________________________________\n"
     ]
    }
   ],
   "source": [
    "model.summary()"
   ]
  },
  {
   "cell_type": "markdown",
   "id": "69660623",
   "metadata": {},
   "source": [
    "# Configuring the model for training"
   ]
  },
  {
   "cell_type": "code",
   "execution_count": 23,
   "id": "7c729f8a",
   "metadata": {},
   "outputs": [],
   "source": [
    "from tensorflow.keras import optimizers\n",
    "model.compile(loss='binary_crossentropy',\n",
    "optimizer=optimizers.RMSprop(learning_rate=1e-4),\n",
    "metrics=['acc'])"
   ]
  },
  {
   "cell_type": "markdown",
   "id": "53e9804d",
   "metadata": {},
   "source": [
    "# Data preprocessing"
   ]
  },
  {
   "cell_type": "markdown",
   "id": "d9a42b3c",
   "metadata": {},
   "source": [
    "## Using ImageDataGenerator to read images from directories"
   ]
  },
  {
   "cell_type": "code",
   "execution_count": 26,
   "id": "0133e1f3",
   "metadata": {},
   "outputs": [
    {
     "name": "stdout",
     "output_type": "stream",
     "text": [
      "Found 2000 images belonging to 2 classes.\n"
     ]
    }
   ],
   "source": [
    "# Rescale all images by 1/255\n",
    "from keras.preprocessing.image import ImageDataGenerator\n",
    "train_datagen = ImageDataGenerator(rescale=1./255)\n",
    "test_datagen = ImageDataGenerator(rescale=1./255)            # Resizes all images to 150 × 150\n",
    "train_generator = train_datagen.flow_from_directory( train_dir, target_size=(150, 150), batch_size=20, class_mode='binary')"
   ]
  },
  {
   "cell_type": "code",
   "execution_count": 27,
   "id": "193f080c",
   "metadata": {},
   "outputs": [
    {
     "name": "stdout",
     "output_type": "stream",
     "text": [
      "Found 1000 images belonging to 2 classes.\n"
     ]
    }
   ],
   "source": [
    "validation_generator = test_datagen.flow_from_directory(validation_dir,target_size=(150, 150),batch_size=20,class_mode='binary')"
   ]
  },
  {
   "cell_type": "markdown",
   "id": "19eb0eda",
   "metadata": {},
   "source": [
    "# Fitting the model using a batch generator"
   ]
  },
  {
   "cell_type": "code",
   "execution_count": 28,
   "id": "d83ffd46",
   "metadata": {},
   "outputs": [
    {
     "name": "stderr",
     "output_type": "stream",
     "text": [
      "C:\\Users\\rajee\\anaconda3\\lib\\site-packages\\tensorflow\\python\\keras\\engine\\training.py:1940: UserWarning: `Model.fit_generator` is deprecated and will be removed in a future version. Please use `Model.fit`, which supports generators.\n",
      "  warnings.warn('`Model.fit_generator` is deprecated and '\n"
     ]
    },
    {
     "name": "stdout",
     "output_type": "stream",
     "text": [
      "Epoch 1/30\n",
      "100/100 [==============================] - 51s 478ms/step - loss: 0.6885 - acc: 0.5295 - val_loss: 0.6637 - val_acc: 0.6050\n",
      "Epoch 2/30\n",
      "100/100 [==============================] - 48s 476ms/step - loss: 0.6507 - acc: 0.6145 - val_loss: 0.6223 - val_acc: 0.6600\n",
      "Epoch 3/30\n",
      "100/100 [==============================] - 48s 475ms/step - loss: 0.5917 - acc: 0.6745 - val_loss: 0.5968 - val_acc: 0.6710\n",
      "Epoch 4/30\n",
      "100/100 [==============================] - 48s 478ms/step - loss: 0.5580 - acc: 0.7150 - val_loss: 0.6250 - val_acc: 0.6590\n",
      "Epoch 5/30\n",
      "100/100 [==============================] - 48s 480ms/step - loss: 0.5370 - acc: 0.7265 - val_loss: 0.5706 - val_acc: 0.6920\n",
      "Epoch 6/30\n",
      "100/100 [==============================] - 48s 484ms/step - loss: 0.5094 - acc: 0.7480 - val_loss: 0.5758 - val_acc: 0.7050\n",
      "Epoch 7/30\n",
      "100/100 [==============================] - 48s 480ms/step - loss: 0.4840 - acc: 0.7605 - val_loss: 0.5422 - val_acc: 0.7270\n",
      "Epoch 8/30\n",
      "100/100 [==============================] - 48s 477ms/step - loss: 0.4527 - acc: 0.7850 - val_loss: 0.5799 - val_acc: 0.7080\n",
      "Epoch 9/30\n",
      "100/100 [==============================] - 48s 478ms/step - loss: 0.4345 - acc: 0.8005 - val_loss: 0.5783 - val_acc: 0.7050\n",
      "Epoch 10/30\n",
      "100/100 [==============================] - 48s 479ms/step - loss: 0.4115 - acc: 0.8120 - val_loss: 0.6138 - val_acc: 0.7070\n",
      "Epoch 11/30\n",
      "100/100 [==============================] - 48s 483ms/step - loss: 0.3861 - acc: 0.8325 - val_loss: 0.5382 - val_acc: 0.7420\n",
      "Epoch 12/30\n",
      "100/100 [==============================] - 48s 480ms/step - loss: 0.3517 - acc: 0.8490 - val_loss: 0.5811 - val_acc: 0.7300\n",
      "Epoch 13/30\n",
      "100/100 [==============================] - 48s 479ms/step - loss: 0.3424 - acc: 0.8565 - val_loss: 0.5586 - val_acc: 0.7330\n",
      "Epoch 14/30\n",
      "100/100 [==============================] - 48s 479ms/step - loss: 0.3163 - acc: 0.8600 - val_loss: 0.6694 - val_acc: 0.6900\n",
      "Epoch 15/30\n",
      "100/100 [==============================] - 48s 479ms/step - loss: 0.3014 - acc: 0.8730 - val_loss: 0.6961 - val_acc: 0.7010\n",
      "Epoch 16/30\n",
      "100/100 [==============================] - 48s 479ms/step - loss: 0.2764 - acc: 0.8930 - val_loss: 0.6107 - val_acc: 0.7380\n",
      "Epoch 17/30\n",
      "100/100 [==============================] - 48s 478ms/step - loss: 0.2560 - acc: 0.9000 - val_loss: 0.7068 - val_acc: 0.7190\n",
      "Epoch 18/30\n",
      "100/100 [==============================] - 48s 478ms/step - loss: 0.2373 - acc: 0.9080 - val_loss: 0.6188 - val_acc: 0.7350\n",
      "Epoch 19/30\n",
      "100/100 [==============================] - 48s 479ms/step - loss: 0.2122 - acc: 0.9215 - val_loss: 0.6240 - val_acc: 0.7350\n",
      "Epoch 20/30\n",
      "100/100 [==============================] - 48s 479ms/step - loss: 0.1938 - acc: 0.9330 - val_loss: 0.7159 - val_acc: 0.7280\n",
      "Epoch 21/30\n",
      "100/100 [==============================] - 48s 480ms/step - loss: 0.1735 - acc: 0.9370 - val_loss: 0.6755 - val_acc: 0.7500\n",
      "Epoch 22/30\n",
      "100/100 [==============================] - 48s 480ms/step - loss: 0.1579 - acc: 0.9420 - val_loss: 0.6824 - val_acc: 0.7440\n",
      "Epoch 23/30\n",
      "100/100 [==============================] - 48s 480ms/step - loss: 0.1433 - acc: 0.9535 - val_loss: 0.7378 - val_acc: 0.7300\n",
      "Epoch 24/30\n",
      "100/100 [==============================] - 48s 480ms/step - loss: 0.1240 - acc: 0.9565 - val_loss: 0.7306 - val_acc: 0.7450\n",
      "Epoch 25/30\n",
      "100/100 [==============================] - 50s 499ms/step - loss: 0.1138 - acc: 0.9615 - val_loss: 0.7882 - val_acc: 0.7280\n",
      "Epoch 26/30\n",
      "100/100 [==============================] - 48s 480ms/step - loss: 0.0978 - acc: 0.9705 - val_loss: 0.8229 - val_acc: 0.7230\n",
      "Epoch 27/30\n",
      "100/100 [==============================] - 48s 481ms/step - loss: 0.0912 - acc: 0.9710 - val_loss: 0.8274 - val_acc: 0.7310\n",
      "Epoch 28/30\n",
      "100/100 [==============================] - 48s 480ms/step - loss: 0.0737 - acc: 0.9785 - val_loss: 0.9268 - val_acc: 0.7230\n",
      "Epoch 29/30\n",
      "100/100 [==============================] - 48s 482ms/step - loss: 0.0683 - acc: 0.9830 - val_loss: 0.8769 - val_acc: 0.7370\n",
      "Epoch 30/30\n",
      "100/100 [==============================] - 48s 483ms/step - loss: 0.0514 - acc: 0.9870 - val_loss: 0.9221 - val_acc: 0.7480\n"
     ]
    }
   ],
   "source": [
    "history = model.fit_generator(\n",
    "train_generator,\n",
    "steps_per_epoch=100,\n",
    "epochs=30,\n",
    "validation_data=validation_generator,\n",
    "validation_steps=50)"
   ]
  },
  {
   "cell_type": "code",
   "execution_count": 29,
   "id": "54f6e7b0",
   "metadata": {},
   "outputs": [],
   "source": [
    "model.save('CompleteProject/cats_and_dogs_small_1.h5')"
   ]
  },
  {
   "cell_type": "code",
   "execution_count": 33,
   "id": "699296e0",
   "metadata": {},
   "outputs": [
    {
     "data": {
      "text/plain": [
       "dict_keys(['loss', 'acc', 'val_loss', 'val_acc'])"
      ]
     },
     "execution_count": 33,
     "metadata": {},
     "output_type": "execute_result"
    }
   ],
   "source": [
    "history.history.keys()"
   ]
  },
  {
   "cell_type": "markdown",
   "id": "3f02c732",
   "metadata": {},
   "source": [
    "# Evalutaing Model with test Data"
   ]
  },
  {
   "cell_type": "code",
   "execution_count": 30,
   "id": "ec465f5e",
   "metadata": {},
   "outputs": [
    {
     "name": "stdout",
     "output_type": "stream",
     "text": [
      "Found 1000 images belonging to 2 classes.\n"
     ]
    }
   ],
   "source": [
    "test_generator = test_datagen.flow_from_directory( test_dir, target_size=(150, 150), batch_size=20, class_mode='binary')"
   ]
  },
  {
   "cell_type": "code",
   "execution_count": 31,
   "id": "21e44a12",
   "metadata": {},
   "outputs": [
    {
     "name": "stderr",
     "output_type": "stream",
     "text": [
      "C:\\Users\\rajee\\anaconda3\\lib\\site-packages\\tensorflow\\python\\keras\\engine\\training.py:1973: UserWarning: `Model.evaluate_generator` is deprecated and will be removed in a future version. Please use `Model.evaluate`, which supports generators.\n",
      "  warnings.warn('`Model.evaluate_generator` is deprecated and '\n"
     ]
    },
    {
     "data": {
      "text/plain": [
       "[0.9290469884872437, 0.722000002861023]"
      ]
     },
     "execution_count": 31,
     "metadata": {},
     "output_type": "execute_result"
    }
   ],
   "source": [
    "model.evaluate_generator(test_generator)"
   ]
  },
  {
   "cell_type": "code",
   "execution_count": 34,
   "id": "924b38e4",
   "metadata": {},
   "outputs": [
    {
     "name": "stdout",
     "output_type": "stream",
     "text": [
      "50/50 [==============================] - 6s 125ms/step - loss: 0.9290 - acc: 0.7220\n"
     ]
    },
    {
     "data": {
      "text/plain": [
       "[0.9290469884872437, 0.722000002861023]"
      ]
     },
     "execution_count": 34,
     "metadata": {},
     "output_type": "execute_result"
    }
   ],
   "source": [
    "model.evaluate(test_generator)"
   ]
  },
  {
   "cell_type": "code",
   "execution_count": null,
   "id": "7d50f0d6",
   "metadata": {},
   "outputs": [],
   "source": []
  }
 ],
 "metadata": {
  "kernelspec": {
   "display_name": "Python 3",
   "language": "python",
   "name": "python3"
  },
  "language_info": {
   "codemirror_mode": {
    "name": "ipython",
    "version": 3
   },
   "file_extension": ".py",
   "mimetype": "text/x-python",
   "name": "python",
   "nbconvert_exporter": "python",
   "pygments_lexer": "ipython3",
   "version": "3.8.8"
  }
 },
 "nbformat": 4,
 "nbformat_minor": 5
}
