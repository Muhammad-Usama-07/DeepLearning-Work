{
  "nbformat": 4,
  "nbformat_minor": 0,
  "metadata": {
    "colab": {
      "name": "FashionItemRecognition.ipynb",
      "provenance": [],
      "authorship_tag": "ABX9TyNMxEudDUfTp4zBc0d8zvDT",
      "include_colab_link": true
    },
    "kernelspec": {
      "name": "python3",
      "display_name": "Python 3"
    },
    "language_info": {
      "name": "python"
    }
  },
  "cells": [
    {
      "cell_type": "markdown",
      "metadata": {
        "id": "view-in-github",
        "colab_type": "text"
      },
      "source": [
        "<a href=\"https://colab.research.google.com/github/Muhammad-Usama-07/DeepLearning-Work/blob/main/FashionItemRecognition.ipynb\" target=\"_parent\"><img src=\"https://colab.research.google.com/assets/colab-badge.svg\" alt=\"Open In Colab\"/></a>"
      ]
    },
    {
      "cell_type": "markdown",
      "metadata": {
        "id": "Sfpk8Jee2wJP"
      },
      "source": [
        "# Libraries"
      ]
    },
    {
      "cell_type": "code",
      "metadata": {
        "id": "-nPiGdQ-2yuN"
      },
      "source": [
        "from keras.datasets import fashion_mnist\n",
        "from keras import models\n",
        "from keras import layers"
      ],
      "execution_count": 28,
      "outputs": []
    },
    {
      "cell_type": "markdown",
      "metadata": {
        "id": "Nwcbqn6T3b4u"
      },
      "source": [
        "# Loading fashion_mnist Data"
      ]
    },
    {
      "cell_type": "code",
      "metadata": {
        "id": "irMP98of261G"
      },
      "source": [
        "(train_images, train_labels), (test_images, test_labels) = fashion_mnist.load_data()"
      ],
      "execution_count": 35,
      "outputs": []
    },
    {
      "cell_type": "markdown",
      "metadata": {
        "id": "T7CU8MJg3jtc"
      },
      "source": [
        "# Checking shape of train and test images"
      ]
    },
    {
      "cell_type": "code",
      "metadata": {
        "colab": {
          "base_uri": "https://localhost:8080/"
        },
        "id": "yx28D0803_Vl",
        "outputId": "77fbdac6-ff40-4c92-bfed-8cf73b1ad1cb"
      },
      "source": [
        "train_images.shape"
      ],
      "execution_count": 36,
      "outputs": [
        {
          "output_type": "execute_result",
          "data": {
            "text/plain": [
              "(60000, 28, 28)"
            ]
          },
          "metadata": {
            "tags": []
          },
          "execution_count": 36
        }
      ]
    },
    {
      "cell_type": "code",
      "metadata": {
        "colab": {
          "base_uri": "https://localhost:8080/"
        },
        "id": "9T8NDCKn4Bvf",
        "outputId": "f6c7d948-8f99-46b6-d341-b49961ead4db"
      },
      "source": [
        "test_images.shape"
      ],
      "execution_count": 37,
      "outputs": [
        {
          "output_type": "execute_result",
          "data": {
            "text/plain": [
              "(10000, 28, 28)"
            ]
          },
          "metadata": {
            "tags": []
          },
          "execution_count": 37
        }
      ]
    },
    {
      "cell_type": "markdown",
      "metadata": {
        "id": "HjW8kRky4nm3"
      },
      "source": [
        "# Making a Neural Network Model "
      ]
    },
    {
      "cell_type": "code",
      "metadata": {
        "id": "vNuk98mY4gkk"
      },
      "source": [
        "network = models.Sequential()\n",
        "network.add(layers.Dense(712, activation='relu', input_shape = (784,)))\n",
        "network.add(layers.Dense(712, activation='relu'))\n",
        "network.add(layers.Dense(10,activation='softmax'))"
      ],
      "execution_count": 38,
      "outputs": []
    },
    {
      "cell_type": "markdown",
      "metadata": {
        "id": "mWXUgrOS6g_B"
      },
      "source": [
        "# Compiling Model(with optimizer, loss, and accuracy metrix)"
      ]
    },
    {
      "cell_type": "code",
      "metadata": {
        "id": "IIix2bFR6NjR"
      },
      "source": [
        "network.compile(optimizer='rmsprop', loss='categorical_crossentropy', metrics=['accuracy'])"
      ],
      "execution_count": 39,
      "outputs": []
    },
    {
      "cell_type": "markdown",
      "metadata": {
        "id": "J-PWsUNC65MN"
      },
      "source": [
        "# Preparing image data and labels(One-hot-encoding)"
      ]
    },
    {
      "cell_type": "code",
      "metadata": {
        "id": "NztT58Ba64Px"
      },
      "source": [
        "# Prepering Lables\n",
        "train_images = train_images.reshape((60000, 28 * 28))\n",
        "train_images = train_images.astype('float32') / 255\n",
        "test_images = test_images.reshape((10000, 28 * 28))\n",
        "test_images = test_images.astype('float32') / 255\n",
        "\n",
        "# Prepering Lables\n",
        "from tensorflow.keras.utils import to_categorical\n",
        "train_labels = to_categorical(train_labels)\n",
        "test_labels = to_categorical(test_labels)"
      ],
      "execution_count": 40,
      "outputs": []
    },
    {
      "cell_type": "markdown",
      "metadata": {
        "id": "zvVqwrqt7ZfS"
      },
      "source": [
        "# Training Model"
      ]
    },
    {
      "cell_type": "code",
      "metadata": {
        "colab": {
          "base_uri": "https://localhost:8080/"
        },
        "id": "tt-EKlZZAteT",
        "outputId": "d3834c80-b53c-4f0b-eceb-cc7b95572a64"
      },
      "source": [
        "network.fit(train_images,train_labels, epochs=15, batch_size=128)"
      ],
      "execution_count": 41,
      "outputs": [
        {
          "output_type": "stream",
          "text": [
            "Epoch 1/15\n",
            "469/469 [==============================] - 11s 22ms/step - loss: 0.7400 - accuracy: 0.7366\n",
            "Epoch 2/15\n",
            "469/469 [==============================] - 10s 22ms/step - loss: 0.3841 - accuracy: 0.8601\n",
            "Epoch 3/15\n",
            "469/469 [==============================] - 10s 22ms/step - loss: 0.3332 - accuracy: 0.8775\n",
            "Epoch 4/15\n",
            "469/469 [==============================] - 11s 23ms/step - loss: 0.3135 - accuracy: 0.8847\n",
            "Epoch 5/15\n",
            "469/469 [==============================] - 10s 22ms/step - loss: 0.2936 - accuracy: 0.8912\n",
            "Epoch 6/15\n",
            "469/469 [==============================] - 11s 22ms/step - loss: 0.2856 - accuracy: 0.8948\n",
            "Epoch 7/15\n",
            "469/469 [==============================] - 10s 22ms/step - loss: 0.2665 - accuracy: 0.9008\n",
            "Epoch 8/15\n",
            "469/469 [==============================] - 11s 23ms/step - loss: 0.2618 - accuracy: 0.9030\n",
            "Epoch 9/15\n",
            "469/469 [==============================] - 11s 22ms/step - loss: 0.2520 - accuracy: 0.9073\n",
            "Epoch 10/15\n",
            "469/469 [==============================] - 10s 22ms/step - loss: 0.2494 - accuracy: 0.9082\n",
            "Epoch 11/15\n",
            "469/469 [==============================] - 10s 22ms/step - loss: 0.2395 - accuracy: 0.9110\n",
            "Epoch 12/15\n",
            "469/469 [==============================] - 11s 23ms/step - loss: 0.2334 - accuracy: 0.9133\n",
            "Epoch 13/15\n",
            "469/469 [==============================] - 11s 23ms/step - loss: 0.2300 - accuracy: 0.9152\n",
            "Epoch 14/15\n",
            "469/469 [==============================] - 10s 22ms/step - loss: 0.2202 - accuracy: 0.9202\n",
            "Epoch 15/15\n",
            "469/469 [==============================] - 10s 22ms/step - loss: 0.2210 - accuracy: 0.9192\n"
          ],
          "name": "stdout"
        },
        {
          "output_type": "execute_result",
          "data": {
            "text/plain": [
              "<keras.callbacks.History at 0x7f2180e0b990>"
            ]
          },
          "metadata": {
            "tags": []
          },
          "execution_count": 41
        }
      ]
    },
    {
      "cell_type": "markdown",
      "metadata": {
        "id": "Hm77QGE2CEhV"
      },
      "source": [
        "# Testing Model"
      ]
    },
    {
      "cell_type": "code",
      "metadata": {
        "colab": {
          "base_uri": "https://localhost:8080/"
        },
        "id": "EFp2tePRCGRW",
        "outputId": "92ea3a71-54b4-44bd-eb57-c6a9a806dfb7"
      },
      "source": [
        "network.evaluate(test_images, test_labels)"
      ],
      "execution_count": 42,
      "outputs": [
        {
          "output_type": "stream",
          "text": [
            "313/313 [==============================] - 2s 4ms/step - loss: 0.4219 - accuracy: 0.8900\n"
          ],
          "name": "stdout"
        },
        {
          "output_type": "execute_result",
          "data": {
            "text/plain": [
              "[0.4218890964984894, 0.8899999856948853]"
            ]
          },
          "metadata": {
            "tags": []
          },
          "execution_count": 42
        }
      ]
    },
    {
      "cell_type": "code",
      "metadata": {
        "id": "hmFNG2y0CJFl"
      },
      "source": [
        ""
      ],
      "execution_count": 42,
      "outputs": []
    }
  ]
}