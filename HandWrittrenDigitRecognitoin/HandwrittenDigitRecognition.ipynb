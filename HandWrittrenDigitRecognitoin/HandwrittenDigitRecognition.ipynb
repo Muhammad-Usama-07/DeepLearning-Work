{
  "nbformat": 4,
  "nbformat_minor": 0,
  "metadata": {
    "colab": {
      "name": "HandwrittenDigitRecognition.ipynb",
      "provenance": [],
      "collapsed_sections": [],
      "authorship_tag": "ABX9TyPcZbRl+CLxhKeo6gzwbrOJ",
      "include_colab_link": true
    },
    "kernelspec": {
      "name": "python3",
      "display_name": "Python 3"
    },
    "language_info": {
      "name": "python"
    }
  },
  "cells": [
    {
      "cell_type": "markdown",
      "metadata": {
        "id": "view-in-github",
        "colab_type": "text"
      },
      "source": [
        "<a href=\"https://colab.research.google.com/github/Muhammad-Usama-07/DeepLearning-Work/blob/main/HandWrittrenDigitRecognitoin/HandwrittenDigitRecognition.ipynb\" target=\"_parent\"><img src=\"https://colab.research.google.com/assets/colab-badge.svg\" alt=\"Open In Colab\"/></a>"
      ]
    },
    {
      "cell_type": "markdown",
      "metadata": {
        "id": "Jxq0Xsc7GOoZ"
      },
      "source": [
        "# Libraries"
      ]
    },
    {
      "cell_type": "code",
      "metadata": {
        "id": "wjVyG16rGR-J"
      },
      "source": [
        "from tensorflow.keras.datasets import mnist\n"
      ],
      "execution_count": 10,
      "outputs": []
    },
    {
      "cell_type": "code",
      "metadata": {
        "id": "MByDlKdsGWDK"
      },
      "source": [
        "(train_images, train_labels), (test_images, test_labels) = mnist.load_data()"
      ],
      "execution_count": 11,
      "outputs": []
    },
    {
      "cell_type": "markdown",
      "metadata": {
        "id": "WTm0RxqyHJ8a"
      },
      "source": [
        "# Checking shape of train and test images"
      ]
    },
    {
      "cell_type": "code",
      "metadata": {
        "id": "e24DK6fzGZq5",
        "colab": {
          "base_uri": "https://localhost:8080/"
        },
        "outputId": "5224e4e8-e49b-4e84-dc31-7203e6c62e93"
      },
      "source": [
        "train_images.shape"
      ],
      "execution_count": 12,
      "outputs": [
        {
          "output_type": "execute_result",
          "data": {
            "text/plain": [
              "(60000, 28, 28)"
            ]
          },
          "metadata": {
            "tags": []
          },
          "execution_count": 12
        }
      ]
    },
    {
      "cell_type": "code",
      "metadata": {
        "colab": {
          "base_uri": "https://localhost:8080/"
        },
        "id": "zViCJIiIHEvB",
        "outputId": "4a934a23-fffb-49dc-adf3-451151457712"
      },
      "source": [
        "test_images.shape"
      ],
      "execution_count": 13,
      "outputs": [
        {
          "output_type": "execute_result",
          "data": {
            "text/plain": [
              "(10000, 28, 28)"
            ]
          },
          "metadata": {
            "tags": []
          },
          "execution_count": 13
        }
      ]
    },
    {
      "cell_type": "markdown",
      "metadata": {
        "id": "p3GpKtw8JpkT"
      },
      "source": [
        "# Making Model Architecture"
      ]
    },
    {
      "cell_type": "code",
      "metadata": {
        "id": "4-SE81aHHGv5"
      },
      "source": [
        "# Importing Libraries\n",
        "from tensorflow.keras import models\n",
        "from tensorflow.keras import layers"
      ],
      "execution_count": 14,
      "outputs": []
    },
    {
      "cell_type": "code",
      "metadata": {
        "id": "2e5rcvb-J1FR"
      },
      "source": [
        "network = models.Sequential()\n",
        "network.add(layers.Dense(512, activation='relu', input_shape = (28 * 28, )))\n",
        "network.add(layers.Dense(10,activation='softmax'))"
      ],
      "execution_count": 15,
      "outputs": []
    },
    {
      "cell_type": "markdown",
      "metadata": {
        "id": "dzMLmRh0LDR6"
      },
      "source": [
        "# Compling Step"
      ]
    },
    {
      "cell_type": "code",
      "metadata": {
        "id": "SX_yY1S8KfyS"
      },
      "source": [
        "network.compile(optimizer='rmsprop',\n",
        "loss='categorical_crossentropy',\n",
        "metrics=['accuracy'])"
      ],
      "execution_count": 16,
      "outputs": []
    },
    {
      "cell_type": "markdown",
      "metadata": {
        "id": "o7crIauqLhBM"
      },
      "source": [
        "# Preparing image data"
      ]
    },
    {
      "cell_type": "code",
      "metadata": {
        "id": "y6DMIT91LY6I"
      },
      "source": [
        "train_images = train_images.reshape((60000, 28 * 28))\n",
        "train_images = train_images.astype('float32') / 255\n",
        "test_images = test_images.reshape((10000, 28 * 28))\n",
        "test_images = test_images.astype('float32') / 255"
      ],
      "execution_count": 17,
      "outputs": []
    },
    {
      "cell_type": "markdown",
      "metadata": {
        "id": "gdBJ5bHOLn_T"
      },
      "source": [
        "#  Preparing the labels(One-hot-encoding)"
      ]
    },
    {
      "cell_type": "code",
      "metadata": {
        "id": "BHoLhltRLkaz"
      },
      "source": [
        "from tensorflow.keras.utils import to_categorical\n",
        "train_labels = to_categorical(train_labels)\n",
        "test_labels = to_categorical(test_labels)"
      ],
      "execution_count": 18,
      "outputs": []
    },
    {
      "cell_type": "markdown",
      "metadata": {
        "id": "eZNKLEsnMFJL"
      },
      "source": [
        "# Training Model"
      ]
    },
    {
      "cell_type": "code",
      "metadata": {
        "colab": {
          "base_uri": "https://localhost:8080/"
        },
        "id": "W_AzfoI-L-Li",
        "outputId": "ebf28373-db9b-402b-9ade-d3f30c998ee5"
      },
      "source": [
        "network.fit(train_images, train_labels, epochs=5, batch_size=128)"
      ],
      "execution_count": 19,
      "outputs": [
        {
          "output_type": "stream",
          "text": [
            "Epoch 1/5\n",
            "469/469 [==============================] - 5s 10ms/step - loss: 0.2524 - accuracy: 0.9261\n",
            "Epoch 2/5\n",
            "469/469 [==============================] - 5s 10ms/step - loss: 0.1022 - accuracy: 0.9700\n",
            "Epoch 3/5\n",
            "469/469 [==============================] - 5s 10ms/step - loss: 0.0672 - accuracy: 0.9800\n",
            "Epoch 4/5\n",
            "469/469 [==============================] - 5s 10ms/step - loss: 0.0493 - accuracy: 0.9854\n",
            "Epoch 5/5\n",
            "469/469 [==============================] - 5s 10ms/step - loss: 0.0372 - accuracy: 0.9891\n"
          ],
          "name": "stdout"
        },
        {
          "output_type": "execute_result",
          "data": {
            "text/plain": [
              "<tensorflow.python.keras.callbacks.History at 0x7f37491bde10>"
            ]
          },
          "metadata": {
            "tags": []
          },
          "execution_count": 19
        }
      ]
    },
    {
      "cell_type": "markdown",
      "metadata": {
        "id": "3D91N8WFM7fc"
      },
      "source": [
        "# Testing Model"
      ]
    },
    {
      "cell_type": "code",
      "metadata": {
        "id": "IOKGP2l4M9Kr",
        "colab": {
          "base_uri": "https://localhost:8080/"
        },
        "outputId": "4d388698-b9fa-4a69-e7ec-ff97c25c33d6"
      },
      "source": [
        "network.evaluate(test_images, test_labels)"
      ],
      "execution_count": 20,
      "outputs": [
        {
          "output_type": "stream",
          "text": [
            "313/313 [==============================] - 1s 2ms/step - loss: 0.0643 - accuracy: 0.9804\n"
          ],
          "name": "stdout"
        },
        {
          "output_type": "execute_result",
          "data": {
            "text/plain": [
              "[0.06430953741073608, 0.980400025844574]"
            ]
          },
          "metadata": {
            "tags": []
          },
          "execution_count": 20
        }
      ]
    },
    {
      "cell_type": "code",
      "metadata": {
        "id": "mDRXbs2sM_ya",
        "colab": {
          "base_uri": "https://localhost:8080/"
        },
        "outputId": "3cce5717-28b7-43cd-f843-cf0c413f6b1a"
      },
      "source": [
        "network.save('TrainedModel')"
      ],
      "execution_count": 21,
      "outputs": [
        {
          "output_type": "stream",
          "text": [
            "INFO:tensorflow:Assets written to: TrainedModel/assets\n"
          ],
          "name": "stdout"
        }
      ]
    },
    {
      "cell_type": "code",
      "metadata": {
        "id": "XA7r0D57Wk6f"
      },
      "source": [
        ""
      ],
      "execution_count": null,
      "outputs": []
    }
  ]
}