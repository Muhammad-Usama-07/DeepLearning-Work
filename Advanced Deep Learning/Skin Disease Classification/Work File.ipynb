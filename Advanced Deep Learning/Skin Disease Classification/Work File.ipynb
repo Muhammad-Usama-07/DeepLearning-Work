{
 "cells": [
  {
   "cell_type": "markdown",
   "id": "9a9ce02e-78f6-4326-8355-c42eef75b96d",
   "metadata": {},
   "source": [
    "# libaries"
   ]
  },
  {
   "cell_type": "code",
   "execution_count": null,
   "id": "ca1ea291-e256-47d3-9498-2ba133f7867f",
   "metadata": {},
   "outputs": [],
   "source": [
    "# ==== Standard Library ====\n",
    "import os\n",
    "import csv\n",
    "import math\n",
    "import random\n",
    "import zipfile\n",
    "from pathlib import Path\n",
    "\n",
    "# ==== Numerical & Data Libraries ====\n",
    "import numpy as np\n",
    "import pandas as pd\n",
    "\n",
    "# ==== Visualization ====\n",
    "import matplotlib.pyplot as plt\n",
    "\n",
    "# ==== PyTorch ====\n",
    "import torch\n",
    "import torch.nn as nn\n",
    "import torch.nn.functional as F\n",
    "from torch.utils.data import Dataset, DataLoader\n",
    "from torchvision import transforms, models, datasets\n",
    "\n",
    "# ==== TensorFlow / Keras ====\n",
    "import tensorflow as tf\n",
    "from tensorflow.keras import layers, models as keras_models, optimizers\n",
    "from tensorflow.keras.preprocessing.image import ImageDataGenerator\n",
    "\n",
    "# ==== Evaluation Metrics ====\n",
    "from sklearn.metrics import confusion_matrix, ConfusionMatrixDisplay\n",
    "from sklearn.model_selection import train_test_split\n",
    "\n",
    "# ==== Image Processing ====\n",
    "from PIL import Image\n"
   ]
  },
  {
   "cell_type": "markdown",
   "id": "74f787d4-cc77-453d-8af3-9078c0f9ebd4",
   "metadata": {},
   "source": [
    "# Paths"
   ]
  },
  {
   "cell_type": "code",
   "execution_count": null,
   "id": "6268e5bf-049f-45ff-862d-04e321928b33",
   "metadata": {},
   "outputs": [],
   "source": [
    "\n",
    "\n",
    "# Set random seeds for reproducibility\n",
    "tf.random.set_seed(42)\n",
    "np.random.seed(42)\n",
    "\n",
    "\n",
    "# Paths\n",
    "TRAIN_DIR = \"/kaggle/input/skindisease/task3/ISIC2018_Task3_Training_Input\"\n",
    "TRAIN_CSV = \"/kaggle/input/skindisease/task3/ISIC2018_Task3_Training_GroundTruth/ISIC2018_Task3_Training_GroundTruth.csv\"\n",
    "VAL_DIR = \"/kaggle/input/skindisease/task3/ISIC2018_Task3_Validation_Input\"\n",
    "VAL_CSV = \"/kaggle/input/skindisease/task3/ISIC2018_Task3_Validation_GroundTruth/ISIC2018_Task3_Validation_GroundTruth.csv\"\n",
    "\n",
    "# Parameters\n",
    "IMG_SIZE = (224, 224)\n",
    "BATCH_SIZE = 32\n",
    "EPOCHS = 50\n",
    "LEARNING_RATE = 0.0001"
   ]
  }
 ],
 "metadata": {
  "kernelspec": {
   "display_name": "Python 3 (ipykernel)",
   "language": "python",
   "name": "python3"
  },
  "language_info": {
   "codemirror_mode": {
    "name": "ipython",
    "version": 3
   },
   "file_extension": ".py",
   "mimetype": "text/x-python",
   "name": "python",
   "nbconvert_exporter": "python",
   "pygments_lexer": "ipython3",
   "version": "3.11.0"
  }
 },
 "nbformat": 4,
 "nbformat_minor": 5
}
