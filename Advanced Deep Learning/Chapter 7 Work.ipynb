{
  "nbformat": 4,
  "nbformat_minor": 5,
  "metadata": {
    "kernelspec": {
      "display_name": "Python 3",
      "language": "python",
      "name": "python3"
    },
    "language_info": {
      "codemirror_mode": {
        "name": "ipython",
        "version": 3
      },
      "file_extension": ".py",
      "mimetype": "text/x-python",
      "name": "python",
      "nbconvert_exporter": "python",
      "pygments_lexer": "ipython3",
      "version": "3.8.8"
    },
    "colab": {
      "name": "Chapter 7 Work.ipynb",
      "provenance": []
    }
  },
  "cells": [
    {
      "cell_type": "markdown",
      "metadata": {
        "id": "c16afbfb"
      },
      "source": [
        "# Libraries"
      ],
      "id": "c16afbfb"
    },
    {
      "cell_type": "code",
      "metadata": {
        "id": "8a3b7463"
      },
      "source": [
        "import numpy as np\n",
        "import numpy as np\n",
        "from tensorflow.keras import Sequential, Model\n",
        "from tensorflow.keras import Model\n",
        "from tensorflow.keras import layers\n",
        "from tensorflow.keras import Input"
      ],
      "id": "8a3b7463",
      "execution_count": 7,
      "outputs": []
    },
    {
      "cell_type": "markdown",
      "metadata": {
        "id": "DCADWgo9lPqO"
      },
      "source": [
        "## HandWritten Digit Recognition Using Functional API\n",
        "\n",
        "\n",
        "---\n",
        "\n"
      ],
      "id": "DCADWgo9lPqO"
    },
    {
      "cell_type": "markdown",
      "metadata": {
        "id": "qaXxwtxGl_YW"
      },
      "source": [
        "1. Importing Dataset"
      ],
      "id": "qaXxwtxGl_YW"
    },
    {
      "cell_type": "code",
      "metadata": {
        "colab": {
          "base_uri": "https://localhost:8080/"
        },
        "id": "e6HcbX0Al8AW",
        "outputId": "71339b8e-65c2-4327-eef9-9e8e993f1332"
      },
      "source": [
        "from tensorflow.keras.datasets import mnist\n",
        "\n",
        "(train_images, train_labels), (test_images, test_labels) = mnist.load_data()\n",
        "# Checking shape\n",
        "print(\"Train Data shape\",train_images.shape)\n",
        "print(\"Test Data shape\", test_images.shape)"
      ],
      "id": "e6HcbX0Al8AW",
      "execution_count": 11,
      "outputs": [
        {
          "output_type": "stream",
          "name": "stdout",
          "text": [
            "Train Data shape (60000, 28, 28)\n",
            "Test Data shape (10000, 28, 28)\n"
          ]
        }
      ]
    },
    {
      "cell_type": "code",
      "metadata": {
        "id": "8vlfGJ_AmSK3"
      },
      "source": [
        ""
      ],
      "id": "8vlfGJ_AmSK3",
      "execution_count": 12,
      "outputs": []
    },
    {
      "cell_type": "code",
      "metadata": {
        "id": "wOmA_IcXmu1u"
      },
      "source": [
        ""
      ],
      "id": "wOmA_IcXmu1u",
      "execution_count": null,
      "outputs": []
    }
  ]
}