{
  "nbformat": 4,
  "nbformat_minor": 5,
  "metadata": {
    "kernelspec": {
      "display_name": "Python 3",
      "language": "python",
      "name": "python3"
    },
    "language_info": {
      "codemirror_mode": {
        "name": "ipython",
        "version": 3
      },
      "file_extension": ".py",
      "mimetype": "text/x-python",
      "name": "python",
      "nbconvert_exporter": "python",
      "pygments_lexer": "ipython3",
      "version": "3.8.8"
    },
    "colab": {
      "name": "Chapter 7 Work.ipynb",
      "provenance": []
    }
  },
  "cells": [
    {
      "cell_type": "markdown",
      "metadata": {
        "id": "c16afbfb"
      },
      "source": [
        "# Libraries"
      ],
      "id": "c16afbfb"
    },
    {
      "cell_type": "code",
      "metadata": {
        "id": "8a3b7463"
      },
      "source": [
        "import numpy as np\n",
        "import numpy as np\n",
        "from tensorflow.keras import Sequential, Model\n"
      ],
      "id": "8a3b7463",
      "execution_count": 6,
      "outputs": []
    },
    {
      "cell_type": "code",
      "metadata": {
        "id": "c7353651"
      },
      "source": [
        ""
      ],
      "id": "c7353651",
      "execution_count": null,
      "outputs": []
    }
  ]
}