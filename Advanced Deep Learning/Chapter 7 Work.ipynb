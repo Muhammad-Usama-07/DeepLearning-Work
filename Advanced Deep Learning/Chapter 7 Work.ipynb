{
  "nbformat": 4,
  "nbformat_minor": 5,
  "metadata": {
    "kernelspec": {
      "display_name": "Python 3",
      "language": "python",
      "name": "python3"
    },
    "language_info": {
      "codemirror_mode": {
        "name": "ipython",
        "version": 3
      },
      "file_extension": ".py",
      "mimetype": "text/x-python",
      "name": "python",
      "nbconvert_exporter": "python",
      "pygments_lexer": "ipython3",
      "version": "3.8.8"
    },
    "colab": {
      "name": "Chapter 7 Work.ipynb",
      "provenance": []
    }
  },
  "cells": [
    {
      "cell_type": "markdown",
      "metadata": {
        "id": "c16afbfb"
      },
      "source": [
        "# Libraries"
      ],
      "id": "c16afbfb"
    },
    {
      "cell_type": "code",
      "metadata": {
        "id": "8a3b7463"
      },
      "source": [
        "import numpy as np\n",
        "import numpy as np\n",
        "from tensorflow.keras import Sequential, Model\n",
        "from tensorflow.keras import Model\n",
        "from tensorflow.keras import layers\n",
        "from tensorflow.keras import Input"
      ],
      "id": "8a3b7463",
      "execution_count": 7,
      "outputs": []
    },
    {
      "cell_type": "markdown",
      "metadata": {
        "id": "DCADWgo9lPqO"
      },
      "source": [
        "## HandWritten Digit Recognition Using Functional API\n",
        "\n",
        "\n",
        "---\n",
        "\n"
      ],
      "id": "DCADWgo9lPqO"
    },
    {
      "cell_type": "markdown",
      "metadata": {
        "id": "qaXxwtxGl_YW"
      },
      "source": [
        "1. Importing Dataset"
      ],
      "id": "qaXxwtxGl_YW"
    },
    {
      "cell_type": "code",
      "metadata": {
        "colab": {
          "base_uri": "https://localhost:8080/"
        },
        "id": "e6HcbX0Al8AW",
        "outputId": "71339b8e-65c2-4327-eef9-9e8e993f1332"
      },
      "source": [
        "from tensorflow.keras.datasets import mnist\n",
        "\n",
        "(train_images, train_labels), (test_images, test_labels) = mnist.load_data()\n",
        "# Checking shape\n",
        "print(\"Train Data shape\",train_images.shape)\n",
        "print(\"Test Data shape\", test_images.shape)"
      ],
      "id": "e6HcbX0Al8AW",
      "execution_count": 11,
      "outputs": [
        {
          "output_type": "stream",
          "name": "stdout",
          "text": [
            "Train Data shape (60000, 28, 28)\n",
            "Test Data shape (10000, 28, 28)\n"
          ]
        }
      ]
    },
    {
      "cell_type": "markdown",
      "metadata": {
        "id": "FpEHi5eum9P-"
      },
      "source": [
        "2. Preparing image data"
      ],
      "id": "FpEHi5eum9P-"
    },
    {
      "cell_type": "code",
      "metadata": {
        "id": "8vlfGJ_AmSK3"
      },
      "source": [
        "train_images = train_images.reshape((60000, 28 * 28))\n",
        "train_images = train_images.astype('float32') / 255\n",
        "test_images = test_images.reshape((10000, 28 * 28))\n",
        "test_images = test_images.astype('float32') / 255"
      ],
      "id": "8vlfGJ_AmSK3",
      "execution_count": 13,
      "outputs": []
    },
    {
      "cell_type": "markdown",
      "metadata": {
        "id": "z4DQ8_04nLzm"
      },
      "source": [
        "3. Preparing the labels(One-hot-encoding)"
      ],
      "id": "z4DQ8_04nLzm"
    },
    {
      "cell_type": "code",
      "metadata": {
        "id": "wOmA_IcXmu1u"
      },
      "source": [
        "from tensorflow.keras.utils import to_categorical\n",
        "train_labels = to_categorical(train_labels)\n",
        "test_labels = to_categorical(test_labels)"
      ],
      "id": "wOmA_IcXmu1u",
      "execution_count": 14,
      "outputs": []
    },
    {
      "cell_type": "markdown",
      "metadata": {
        "id": "PweQ-WalnYGV"
      },
      "source": [
        "4. Building Model Architecture "
      ],
      "id": "PweQ-WalnYGV"
    },
    {
      "cell_type": "code",
      "metadata": {
        "colab": {
          "base_uri": "https://localhost:8080/"
        },
        "id": "4G7bM16TnPTn",
        "outputId": "47ac350b-500d-457e-98ed-5ef2f38dc79c"
      },
      "source": [
        "input_tensor = Input(shape=(784,))\n",
        "x = layers.Dense(512, activation='relu')(input_tensor)\n",
        "x = layers.Dense(32, activation='relu')(x)\n",
        "output_tensor = layers.Dense(10, activation='softmax')(x)\n",
        "ANN_model = Model(input_tensor, output_tensor)\n",
        "ANN_model.summary()"
      ],
      "id": "4G7bM16TnPTn",
      "execution_count": 16,
      "outputs": [
        {
          "output_type": "stream",
          "name": "stdout",
          "text": [
            "Model: \"model_1\"\n",
            "_________________________________________________________________\n",
            "Layer (type)                 Output Shape              Param #   \n",
            "=================================================================\n",
            "input_2 (InputLayer)         [(None, 784)]             0         \n",
            "_________________________________________________________________\n",
            "dense_3 (Dense)              (None, 512)               401920    \n",
            "_________________________________________________________________\n",
            "dense_4 (Dense)              (None, 32)                16416     \n",
            "_________________________________________________________________\n",
            "dense_5 (Dense)              (None, 10)                330       \n",
            "=================================================================\n",
            "Total params: 418,666\n",
            "Trainable params: 418,666\n",
            "Non-trainable params: 0\n",
            "_________________________________________________________________\n"
          ]
        }
      ]
    },
    {
      "cell_type": "markdown",
      "metadata": {
        "id": "HTXBBJD1nvBV"
      },
      "source": [
        "5. Compiling Model"
      ],
      "id": "HTXBBJD1nvBV"
    },
    {
      "cell_type": "code",
      "metadata": {
        "id": "DQC5Sdn1npaI"
      },
      "source": [
        "ANN_model.compile(optimizer='rmsprop',\n",
        "loss='categorical_crossentropy',\n",
        "metrics=['accuracy'])"
      ],
      "id": "DQC5Sdn1npaI",
      "execution_count": 17,
      "outputs": []
    },
    {
      "cell_type": "code",
      "metadata": {
        "id": "Uz2haoWdn7WH"
      },
      "source": [
        ""
      ],
      "id": "Uz2haoWdn7WH",
      "execution_count": null,
      "outputs": []
    }
  ]
}