{
  "nbformat": 4,
  "nbformat_minor": 5,
  "metadata": {
    "kernelspec": {
      "display_name": "Python 3",
      "language": "python",
      "name": "python3"
    },
    "language_info": {
      "codemirror_mode": {
        "name": "ipython",
        "version": 3
      },
      "file_extension": ".py",
      "mimetype": "text/x-python",
      "name": "python",
      "nbconvert_exporter": "python",
      "pygments_lexer": "ipython3",
      "version": "3.8.8"
    },
    "colab": {
      "name": "Chapter 7 Work.ipynb",
      "provenance": []
    }
  },
  "cells": [
    {
      "cell_type": "markdown",
      "metadata": {
        "id": "c16afbfb"
      },
      "source": [
        "# Libraries"
      ],
      "id": "c16afbfb"
    },
    {
      "cell_type": "code",
      "metadata": {
        "id": "8a3b7463"
      },
      "source": [
        "import numpy as np\n",
        "import numpy as np\n",
        "from tensorflow.keras import Sequential, Model\n",
        "from tensorflow.keras import Model\n",
        "from tensorflow.keras import layers\n",
        "from tensorflow.keras import Input"
      ],
      "id": "8a3b7463",
      "execution_count": 2,
      "outputs": []
    },
    {
      "cell_type": "markdown",
      "metadata": {
        "id": "DCADWgo9lPqO"
      },
      "source": [
        "## ANN - HandWritten Digit Recognition Using Functional API \n",
        "\n",
        "\n",
        "---\n",
        "\n"
      ],
      "id": "DCADWgo9lPqO"
    },
    {
      "cell_type": "markdown",
      "metadata": {
        "id": "qaXxwtxGl_YW"
      },
      "source": [
        "1. Importing Dataset"
      ],
      "id": "qaXxwtxGl_YW"
    },
    {
      "cell_type": "code",
      "metadata": {
        "colab": {
          "base_uri": "https://localhost:8080/"
        },
        "id": "e6HcbX0Al8AW",
        "outputId": "71339b8e-65c2-4327-eef9-9e8e993f1332"
      },
      "source": [
        "from tensorflow.keras.datasets import mnist\n",
        "\n",
        "(train_images, train_labels), (test_images, test_labels) = mnist.load_data()\n",
        "# Checking shape\n",
        "print(\"Train Data shape\",train_images.shape)\n",
        "print(\"Test Data shape\", test_images.shape)"
      ],
      "id": "e6HcbX0Al8AW",
      "execution_count": null,
      "outputs": [
        {
          "output_type": "stream",
          "name": "stdout",
          "text": [
            "Train Data shape (60000, 28, 28)\n",
            "Test Data shape (10000, 28, 28)\n"
          ]
        }
      ]
    },
    {
      "cell_type": "markdown",
      "metadata": {
        "id": "FpEHi5eum9P-"
      },
      "source": [
        "2. Preparing image data"
      ],
      "id": "FpEHi5eum9P-"
    },
    {
      "cell_type": "code",
      "metadata": {
        "id": "8vlfGJ_AmSK3"
      },
      "source": [
        "train_images = train_images.reshape((60000, 28 * 28))\n",
        "train_images = train_images.astype('float32') / 255\n",
        "test_images = test_images.reshape((10000, 28 * 28))\n",
        "test_images = test_images.astype('float32') / 255"
      ],
      "id": "8vlfGJ_AmSK3",
      "execution_count": null,
      "outputs": []
    },
    {
      "cell_type": "markdown",
      "metadata": {
        "id": "z4DQ8_04nLzm"
      },
      "source": [
        "3. Preparing the labels(One-hot-encoding)"
      ],
      "id": "z4DQ8_04nLzm"
    },
    {
      "cell_type": "code",
      "metadata": {
        "id": "wOmA_IcXmu1u"
      },
      "source": [
        "from tensorflow.keras.utils import to_categorical\n",
        "train_labels = to_categorical(train_labels)\n",
        "test_labels = to_categorical(test_labels)"
      ],
      "id": "wOmA_IcXmu1u",
      "execution_count": null,
      "outputs": []
    },
    {
      "cell_type": "markdown",
      "metadata": {
        "id": "PweQ-WalnYGV"
      },
      "source": [
        "4. Building Model Architecture (Using ANN)"
      ],
      "id": "PweQ-WalnYGV"
    },
    {
      "cell_type": "code",
      "metadata": {
        "id": "4G7bM16TnPTn"
      },
      "source": [
        "input_tensor = Input(shape=(784,))\n",
        "x = layers.Dense(512, activation='relu')(input_tensor)\n",
        "ANN_input = layers.Dense(32, activation='relu')(x)"
      ],
      "id": "4G7bM16TnPTn",
      "execution_count": 4,
      "outputs": []
    },
    {
      "cell_type": "markdown",
      "metadata": {
        "id": "ZwA9G16uTO48"
      },
      "source": [
        "# CNN - HandWritten Digit Recognition Using Functional API\n",
        "---\n",
        "\n"
      ],
      "id": "ZwA9G16uTO48"
    },
    {
      "cell_type": "markdown",
      "metadata": {
        "id": "EkfJrEzcUVJ7"
      },
      "source": [
        "1. Importing Dataset"
      ],
      "id": "EkfJrEzcUVJ7"
    },
    {
      "cell_type": "code",
      "metadata": {
        "id": "GZGoo4NhTMC9"
      },
      "source": [
        "from keras.datasets import mnist\n",
        "from tensorflow.keras.utils import to_categorical\n",
        "(train_images, train_labels), (test_images, test_labels) = mnist.load_data()"
      ],
      "id": "GZGoo4NhTMC9",
      "execution_count": 11,
      "outputs": []
    },
    {
      "cell_type": "markdown",
      "metadata": {
        "id": "ExUO8VZXUzAE"
      },
      "source": [
        "2. Preparing image data & labels"
      ],
      "id": "ExUO8VZXUzAE"
    },
    {
      "cell_type": "code",
      "metadata": {
        "id": "YNRv_sJRUgv8"
      },
      "source": [
        "train_images = train_images.reshape((60000, 28, 28, 1))\n",
        "train_images = train_images.astype('float32') / 255\n",
        "test_images = test_images.reshape((10000, 28, 28, 1))\n",
        "test_images = test_images.astype('float32') / 255\n",
        "train_labels = to_categorical(train_labels)\n",
        "test_labels = to_categorical(test_labels)"
      ],
      "id": "YNRv_sJRUgv8",
      "execution_count": 12,
      "outputs": []
    },
    {
      "cell_type": "markdown",
      "metadata": {
        "id": "7_v8Lt9UVEP8"
      },
      "source": [
        "3. Building Model Architecture (CNN)"
      ],
      "id": "7_v8Lt9UVEP8"
    },
    {
      "cell_type": "code",
      "metadata": {
        "id": "7xMPaCIuU3lc"
      },
      "source": [
        ""
      ],
      "id": "7xMPaCIuU3lc",
      "execution_count": null,
      "outputs": []
    },
    {
      "cell_type": "markdown",
      "metadata": {
        "id": "HTXBBJD1nvBV"
      },
      "source": [
        "5. Compiling Model"
      ],
      "id": "HTXBBJD1nvBV"
    },
    {
      "cell_type": "code",
      "metadata": {
        "id": "DQC5Sdn1npaI"
      },
      "source": [
        "ANN_model.compile(optimizer='rmsprop',\n",
        "loss='categorical_crossentropy',\n",
        "metrics=['accuracy'])"
      ],
      "id": "DQC5Sdn1npaI",
      "execution_count": null,
      "outputs": []
    },
    {
      "cell_type": "markdown",
      "metadata": {
        "id": "5PBabGl4oJfu"
      },
      "source": [
        "6. Training Model"
      ],
      "id": "5PBabGl4oJfu"
    },
    {
      "cell_type": "code",
      "metadata": {
        "colab": {
          "base_uri": "https://localhost:8080/"
        },
        "id": "Uz2haoWdn7WH",
        "outputId": "8d0da079-c0a5-46e6-c6c0-2d6837aef789"
      },
      "source": [
        "ANN_model.fit(train_images, train_labels, epochs=5, batch_size=128)"
      ],
      "id": "Uz2haoWdn7WH",
      "execution_count": null,
      "outputs": [
        {
          "output_type": "stream",
          "name": "stdout",
          "text": [
            "Epoch 1/5\n",
            "469/469 [==============================] - 6s 10ms/step - loss: 1.3338 - accuracy: 0.5986\n",
            "Epoch 2/5\n",
            "469/469 [==============================] - 5s 10ms/step - loss: 0.5750 - accuracy: 0.8338\n",
            "Epoch 3/5\n",
            "469/469 [==============================] - 5s 10ms/step - loss: 0.4105 - accuracy: 0.8827\n",
            "Epoch 4/5\n",
            "469/469 [==============================] - 5s 11ms/step - loss: 0.3448 - accuracy: 0.9015\n",
            "Epoch 5/5\n",
            "469/469 [==============================] - 5s 10ms/step - loss: 0.3104 - accuracy: 0.9100\n"
          ]
        },
        {
          "output_type": "execute_result",
          "data": {
            "text/plain": [
              "<keras.callbacks.History at 0x7fbe7e593910>"
            ]
          },
          "metadata": {},
          "execution_count": 18
        }
      ]
    },
    {
      "cell_type": "markdown",
      "metadata": {
        "id": "Mi9OWdMYoX09"
      },
      "source": [
        "7. Evaluating Model"
      ],
      "id": "Mi9OWdMYoX09"
    },
    {
      "cell_type": "code",
      "metadata": {
        "id": "2oxGIp-poPff",
        "colab": {
          "base_uri": "https://localhost:8080/"
        },
        "outputId": "842151ac-d5b1-493f-e225-f42fbcc13f91"
      },
      "source": [
        "ANN_model.evaluate(test_images, test_labels)"
      ],
      "id": "2oxGIp-poPff",
      "execution_count": null,
      "outputs": [
        {
          "output_type": "stream",
          "name": "stdout",
          "text": [
            "313/313 [==============================] - 1s 2ms/step - loss: 0.2895 - accuracy: 0.9187\n"
          ]
        },
        {
          "output_type": "execute_result",
          "data": {
            "text/plain": [
              "[0.28945425152778625, 0.9186999797821045]"
            ]
          },
          "metadata": {},
          "execution_count": 19
        }
      ]
    },
    {
      "cell_type": "code",
      "metadata": {
        "id": "RE2DxhBYobAu"
      },
      "source": [
        ""
      ],
      "id": "RE2DxhBYobAu",
      "execution_count": null,
      "outputs": []
    }
  ]
}