{
  "nbformat": 4,
  "nbformat_minor": 0,
  "metadata": {
    "colab": {
      "name": "FashionItemRecognition.ipynb",
      "provenance": [],
      "authorship_tag": "ABX9TyPO9FVSh6lQxhX1tycvmEUK",
      "include_colab_link": true
    },
    "kernelspec": {
      "name": "python3",
      "display_name": "Python 3"
    },
    "language_info": {
      "name": "python"
    }
  },
  "cells": [
    {
      "cell_type": "markdown",
      "metadata": {
        "id": "view-in-github",
        "colab_type": "text"
      },
      "source": [
        "<a href=\"https://colab.research.google.com/github/Muhammad-Usama-07/DeepLearning-Work/blob/main/FashionItemRecognition.ipynb\" target=\"_parent\"><img src=\"https://colab.research.google.com/assets/colab-badge.svg\" alt=\"Open In Colab\"/></a>"
      ]
    },
    {
      "cell_type": "markdown",
      "metadata": {
        "id": "Sfpk8Jee2wJP"
      },
      "source": [
        "# Libraries"
      ]
    },
    {
      "cell_type": "code",
      "metadata": {
        "id": "-nPiGdQ-2yuN"
      },
      "source": [
        "from keras.datasets import fashion_mnist\n",
        "from keras import models\n",
        "from keras import layers"
      ],
      "execution_count": 10,
      "outputs": []
    },
    {
      "cell_type": "markdown",
      "metadata": {
        "id": "Nwcbqn6T3b4u"
      },
      "source": [
        "# Loading fashion_mnist Data"
      ]
    },
    {
      "cell_type": "code",
      "metadata": {
        "id": "irMP98of261G"
      },
      "source": [
        "(train_images, train_labels), (test_images, test_labels) = fashion_mnist.load_data()"
      ],
      "execution_count": 11,
      "outputs": []
    },
    {
      "cell_type": "markdown",
      "metadata": {
        "id": "T7CU8MJg3jtc"
      },
      "source": [
        "# Checking shape of train and test images"
      ]
    },
    {
      "cell_type": "code",
      "metadata": {
        "colab": {
          "base_uri": "https://localhost:8080/"
        },
        "id": "yx28D0803_Vl",
        "outputId": "b62c6c4f-875d-4755-a38c-b82980dd6a0f"
      },
      "source": [
        "train_images.shape"
      ],
      "execution_count": 12,
      "outputs": [
        {
          "output_type": "execute_result",
          "data": {
            "text/plain": [
              "(60000, 28, 28)"
            ]
          },
          "metadata": {
            "tags": []
          },
          "execution_count": 12
        }
      ]
    },
    {
      "cell_type": "code",
      "metadata": {
        "colab": {
          "base_uri": "https://localhost:8080/"
        },
        "id": "9T8NDCKn4Bvf",
        "outputId": "f756d2ed-2923-4eb0-e7d3-7db1bee696c1"
      },
      "source": [
        "test_images.shape"
      ],
      "execution_count": 13,
      "outputs": [
        {
          "output_type": "execute_result",
          "data": {
            "text/plain": [
              "(10000, 28, 28)"
            ]
          },
          "metadata": {
            "tags": []
          },
          "execution_count": 13
        }
      ]
    },
    {
      "cell_type": "markdown",
      "metadata": {
        "id": "HjW8kRky4nm3"
      },
      "source": [
        "# Making a Neural Network Model "
      ]
    },
    {
      "cell_type": "code",
      "metadata": {
        "id": "vNuk98mY4gkk"
      },
      "source": [
        "network = models.Sequential()\n",
        "network.add(layers.Dense(512, activation='relu', input_shape = (784,)))\n",
        "network.add(layers.Dense(10,activation='softmax'))"
      ],
      "execution_count": 14,
      "outputs": []
    },
    {
      "cell_type": "markdown",
      "metadata": {
        "id": "mWXUgrOS6g_B"
      },
      "source": [
        "# Compiling Model(with optimizer, loss, and accuracy metrix)"
      ]
    },
    {
      "cell_type": "code",
      "metadata": {
        "id": "IIix2bFR6NjR"
      },
      "source": [
        "network.compile(optimizer='rmsprop', loss='categorical_crossentropy', metrics=['accuracy'])"
      ],
      "execution_count": 15,
      "outputs": []
    },
    {
      "cell_type": "markdown",
      "metadata": {
        "id": "J-PWsUNC65MN"
      },
      "source": [
        "# Preparing image data and labels(One-hot-encoding)"
      ]
    },
    {
      "cell_type": "code",
      "metadata": {
        "id": "NztT58Ba64Px"
      },
      "source": [
        "# Prepering Lables\n",
        "train_images = train_images.reshape((60000, 28 * 28))\n",
        "train_images = train_images.astype('float32') / 255\n",
        "test_images = test_images.reshape((10000, 28 * 28))\n",
        "test_images = test_images.astype('float32') / 255\n",
        "\n",
        "# Prepering Lables\n",
        "from tensorflow.keras.utils import to_categorical\n",
        "train_labels = to_categorical(train_labels)\n",
        "test_labels = to_categorical(test_labels)"
      ],
      "execution_count": 16,
      "outputs": []
    },
    {
      "cell_type": "markdown",
      "metadata": {
        "id": "zvVqwrqt7ZfS"
      },
      "source": [
        "# Training Model"
      ]
    },
    {
      "cell_type": "code",
      "metadata": {
        "id": "tt-EKlZZAteT",
        "outputId": "828a9837-579e-4526-b232-2decbd0f3abc",
        "colab": {
          "base_uri": "https://localhost:8080/"
        }
      },
      "source": [
        "network.fit(train_images,train_labels, epochs=15, batch_size=128)"
      ],
      "execution_count": 17,
      "outputs": [
        {
          "output_type": "stream",
          "text": [
            "Epoch 1/15\n",
            "469/469 [==============================] - 14s 9ms/step - loss: 0.7324 - accuracy: 0.7463\n",
            "Epoch 2/15\n",
            "469/469 [==============================] - 4s 9ms/step - loss: 0.3993 - accuracy: 0.8545\n",
            "Epoch 3/15\n",
            "469/469 [==============================] - 5s 10ms/step - loss: 0.3354 - accuracy: 0.8775\n",
            "Epoch 4/15\n",
            "469/469 [==============================] - 5s 10ms/step - loss: 0.3152 - accuracy: 0.8816\n",
            "Epoch 5/15\n",
            "469/469 [==============================] - 4s 9ms/step - loss: 0.2862 - accuracy: 0.8939\n",
            "Epoch 6/15\n",
            "469/469 [==============================] - 4s 9ms/step - loss: 0.2820 - accuracy: 0.8956\n",
            "Epoch 7/15\n",
            "469/469 [==============================] - 4s 10ms/step - loss: 0.2620 - accuracy: 0.9011\n",
            "Epoch 8/15\n",
            "469/469 [==============================] - 4s 9ms/step - loss: 0.2551 - accuracy: 0.9040\n",
            "Epoch 9/15\n",
            "469/469 [==============================] - 4s 9ms/step - loss: 0.2441 - accuracy: 0.9100\n",
            "Epoch 10/15\n",
            "469/469 [==============================] - 4s 9ms/step - loss: 0.2326 - accuracy: 0.9124\n",
            "Epoch 11/15\n",
            "469/469 [==============================] - 4s 9ms/step - loss: 0.2263 - accuracy: 0.9163\n",
            "Epoch 12/15\n",
            "469/469 [==============================] - 4s 9ms/step - loss: 0.2157 - accuracy: 0.9198\n",
            "Epoch 13/15\n",
            "469/469 [==============================] - 4s 9ms/step - loss: 0.2088 - accuracy: 0.9237\n",
            "Epoch 14/15\n",
            "469/469 [==============================] - 4s 9ms/step - loss: 0.2030 - accuracy: 0.9240\n",
            "Epoch 15/15\n",
            "469/469 [==============================] - 4s 9ms/step - loss: 0.1963 - accuracy: 0.9276\n"
          ],
          "name": "stdout"
        },
        {
          "output_type": "execute_result",
          "data": {
            "text/plain": [
              "<keras.callbacks.History at 0x7f2180d2a110>"
            ]
          },
          "metadata": {
            "tags": []
          },
          "execution_count": 17
        }
      ]
    },
    {
      "cell_type": "code",
      "metadata": {
        "id": "5rtBzMYHA9yt"
      },
      "source": [
        ""
      ],
      "execution_count": 17,
      "outputs": []
    }
  ]
}