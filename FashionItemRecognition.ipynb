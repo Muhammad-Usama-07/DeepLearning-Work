{
  "nbformat": 4,
  "nbformat_minor": 0,
  "metadata": {
    "colab": {
      "name": "FashionItemRecognition.ipynb",
      "provenance": [],
      "authorship_tag": "ABX9TyORld1AGaXQF4M1IVVrWRZx",
      "include_colab_link": true
    },
    "kernelspec": {
      "name": "python3",
      "display_name": "Python 3"
    },
    "language_info": {
      "name": "python"
    }
  },
  "cells": [
    {
      "cell_type": "markdown",
      "metadata": {
        "id": "view-in-github",
        "colab_type": "text"
      },
      "source": [
        "<a href=\"https://colab.research.google.com/github/Muhammad-Usama-07/DeepLearning-Work/blob/main/FashionItemRecognition.ipynb\" target=\"_parent\"><img src=\"https://colab.research.google.com/assets/colab-badge.svg\" alt=\"Open In Colab\"/></a>"
      ]
    },
    {
      "cell_type": "markdown",
      "metadata": {
        "id": "Sfpk8Jee2wJP"
      },
      "source": [
        "# Libraries"
      ]
    },
    {
      "cell_type": "code",
      "metadata": {
        "id": "-nPiGdQ-2yuN"
      },
      "source": [
        "from keras.datasets import fashion_mnist\n",
        "from keras import models\n",
        "from keras import layers"
      ],
      "execution_count": 10,
      "outputs": []
    },
    {
      "cell_type": "markdown",
      "metadata": {
        "id": "Nwcbqn6T3b4u"
      },
      "source": [
        "# Loading fashion_mnist Data"
      ]
    },
    {
      "cell_type": "code",
      "metadata": {
        "id": "irMP98of261G"
      },
      "source": [
        "(train_images, train_labels), (test_images, test_labels) = fashion_mnist.load_data()"
      ],
      "execution_count": 19,
      "outputs": []
    },
    {
      "cell_type": "markdown",
      "metadata": {
        "id": "T7CU8MJg3jtc"
      },
      "source": [
        "# Checking shape of train and test images"
      ]
    },
    {
      "cell_type": "code",
      "metadata": {
        "colab": {
          "base_uri": "https://localhost:8080/"
        },
        "id": "yx28D0803_Vl",
        "outputId": "95d108f9-380d-401b-eff2-cf6099d1a8fc"
      },
      "source": [
        "train_images.shape"
      ],
      "execution_count": 20,
      "outputs": [
        {
          "output_type": "execute_result",
          "data": {
            "text/plain": [
              "(60000, 28, 28)"
            ]
          },
          "metadata": {
            "tags": []
          },
          "execution_count": 20
        }
      ]
    },
    {
      "cell_type": "code",
      "metadata": {
        "colab": {
          "base_uri": "https://localhost:8080/"
        },
        "id": "9T8NDCKn4Bvf",
        "outputId": "f2d0c037-9263-4b4d-f06c-b6c6fa16aaf9"
      },
      "source": [
        "test_images.shape"
      ],
      "execution_count": 21,
      "outputs": [
        {
          "output_type": "execute_result",
          "data": {
            "text/plain": [
              "(10000, 28, 28)"
            ]
          },
          "metadata": {
            "tags": []
          },
          "execution_count": 21
        }
      ]
    },
    {
      "cell_type": "markdown",
      "metadata": {
        "id": "HjW8kRky4nm3"
      },
      "source": [
        "# Making a Neural Network Model "
      ]
    },
    {
      "cell_type": "code",
      "metadata": {
        "id": "vNuk98mY4gkk"
      },
      "source": [
        "network = models.Sequential()\n",
        "network.add(layers.Dense(712, activation='relu', input_shape = (784,)))\n",
        "network.add(layers.Dense(10,activation='softmax'))"
      ],
      "execution_count": 22,
      "outputs": []
    },
    {
      "cell_type": "markdown",
      "metadata": {
        "id": "mWXUgrOS6g_B"
      },
      "source": [
        "# Compiling Model(with optimizer, loss, and accuracy metrix)"
      ]
    },
    {
      "cell_type": "code",
      "metadata": {
        "id": "IIix2bFR6NjR"
      },
      "source": [
        "network.compile(optimizer='rmsprop', loss='categorical_crossentropy', metrics=['accuracy'])"
      ],
      "execution_count": 23,
      "outputs": []
    },
    {
      "cell_type": "markdown",
      "metadata": {
        "id": "J-PWsUNC65MN"
      },
      "source": [
        "# Preparing image data and labels(One-hot-encoding)"
      ]
    },
    {
      "cell_type": "code",
      "metadata": {
        "id": "NztT58Ba64Px"
      },
      "source": [
        "# Prepering Lables\n",
        "train_images = train_images.reshape((60000, 28 * 28))\n",
        "train_images = train_images.astype('float32') / 255\n",
        "test_images = test_images.reshape((10000, 28 * 28))\n",
        "test_images = test_images.astype('float32') / 255\n",
        "\n",
        "# Prepering Lables\n",
        "from tensorflow.keras.utils import to_categorical\n",
        "train_labels = to_categorical(train_labels)\n",
        "test_labels = to_categorical(test_labels)"
      ],
      "execution_count": 24,
      "outputs": []
    },
    {
      "cell_type": "markdown",
      "metadata": {
        "id": "zvVqwrqt7ZfS"
      },
      "source": [
        "# Training Model"
      ]
    },
    {
      "cell_type": "code",
      "metadata": {
        "colab": {
          "base_uri": "https://localhost:8080/"
        },
        "id": "tt-EKlZZAteT",
        "outputId": "3158ca64-e46c-4079-b8ad-f9935f5ed7ee"
      },
      "source": [
        "network.fit(train_images,train_labels, epochs=15, batch_size=128)"
      ],
      "execution_count": 25,
      "outputs": [
        {
          "output_type": "stream",
          "text": [
            "Epoch 1/15\n",
            "469/469 [==============================] - 6s 12ms/step - loss: 0.7459 - accuracy: 0.7396\n",
            "Epoch 2/15\n",
            "469/469 [==============================] - 6s 12ms/step - loss: 0.3874 - accuracy: 0.8561\n",
            "Epoch 3/15\n",
            "469/469 [==============================] - 6s 12ms/step - loss: 0.3409 - accuracy: 0.8754\n",
            "Epoch 4/15\n",
            "469/469 [==============================] - 6s 12ms/step - loss: 0.3101 - accuracy: 0.8850\n",
            "Epoch 5/15\n",
            "469/469 [==============================] - 6s 12ms/step - loss: 0.2874 - accuracy: 0.8928\n",
            "Epoch 6/15\n",
            "469/469 [==============================] - 6s 12ms/step - loss: 0.2803 - accuracy: 0.8970\n",
            "Epoch 7/15\n",
            "469/469 [==============================] - 6s 12ms/step - loss: 0.2642 - accuracy: 0.9008\n",
            "Epoch 8/15\n",
            "469/469 [==============================] - 5s 12ms/step - loss: 0.2529 - accuracy: 0.9045\n",
            "Epoch 9/15\n",
            "469/469 [==============================] - 6s 12ms/step - loss: 0.2473 - accuracy: 0.9090\n",
            "Epoch 10/15\n",
            "469/469 [==============================] - 6s 12ms/step - loss: 0.2334 - accuracy: 0.9152\n",
            "Epoch 11/15\n",
            "469/469 [==============================] - 6s 12ms/step - loss: 0.2243 - accuracy: 0.9168\n",
            "Epoch 12/15\n",
            "469/469 [==============================] - 5s 12ms/step - loss: 0.2136 - accuracy: 0.9200\n",
            "Epoch 13/15\n",
            "469/469 [==============================] - 5s 12ms/step - loss: 0.2140 - accuracy: 0.9206\n",
            "Epoch 14/15\n",
            "469/469 [==============================] - 5s 12ms/step - loss: 0.2014 - accuracy: 0.9267\n",
            "Epoch 15/15\n",
            "469/469 [==============================] - 5s 12ms/step - loss: 0.1935 - accuracy: 0.9300\n"
          ],
          "name": "stdout"
        },
        {
          "output_type": "execute_result",
          "data": {
            "text/plain": [
              "<keras.callbacks.History at 0x7f21814255d0>"
            ]
          },
          "metadata": {
            "tags": []
          },
          "execution_count": 25
        }
      ]
    },
    {
      "cell_type": "markdown",
      "metadata": {
        "id": "Hm77QGE2CEhV"
      },
      "source": [
        "# Testing Model"
      ]
    },
    {
      "cell_type": "code",
      "metadata": {
        "colab": {
          "base_uri": "https://localhost:8080/"
        },
        "id": "EFp2tePRCGRW",
        "outputId": "80f0d95e-e81e-4152-dfe8-0cc4c95e72d9"
      },
      "source": [
        "network.evaluate(test_images, test_labels)"
      ],
      "execution_count": 27,
      "outputs": [
        {
          "output_type": "stream",
          "text": [
            "313/313 [==============================] - 1s 2ms/step - loss: 0.3590 - accuracy: 0.8942\n"
          ],
          "name": "stdout"
        },
        {
          "output_type": "execute_result",
          "data": {
            "text/plain": [
              "[0.35898688435554504, 0.8942000269889832]"
            ]
          },
          "metadata": {
            "tags": []
          },
          "execution_count": 27
        }
      ]
    },
    {
      "cell_type": "code",
      "metadata": {
        "id": "hmFNG2y0CJFl"
      },
      "source": [
        ""
      ],
      "execution_count": null,
      "outputs": []
    }
  ]
}