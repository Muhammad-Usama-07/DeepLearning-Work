{
 "cells": [
  {
   "cell_type": "markdown",
   "id": "5ac6c39c",
   "metadata": {},
   "source": [
    "# Libraries"
   ]
  },
  {
   "cell_type": "code",
   "execution_count": 4,
   "id": "bf82e6f3",
   "metadata": {},
   "outputs": [],
   "source": [
    "import pandas as pd\n",
    "import numpy as np\n",
    "import os, shutil\n",
    "from tensorflow.keras import models\n",
    "from tensorflow.keras import layers "
   ]
  },
  {
   "cell_type": "markdown",
   "id": "cc1bad86",
   "metadata": {},
   "source": [
    "# Taking Orignal Data"
   ]
  },
  {
   "cell_type": "code",
   "execution_count": 3,
   "id": "a17c5b8e",
   "metadata": {},
   "outputs": [],
   "source": [
    "original_dataset_dir = 'F:/Saylani.ai/Artificial Intelligence/dogs-vs-cats/train'"
   ]
  },
  {
   "cell_type": "markdown",
   "id": "3bdbfac1",
   "metadata": {},
   "source": [
    "# Creating Base Directory"
   ]
  },
  {
   "cell_type": "code",
   "execution_count": 5,
   "id": "83737d08",
   "metadata": {},
   "outputs": [],
   "source": [
    "base_dir = 'F:/Saylani.ai/Artificial Intelligence/DeepLearning-Work/Cat_and_Dog_classification/Data'\n",
    "os.mkdir(base_dir)"
   ]
  },
  {
   "cell_type": "markdown",
   "id": "0a563a80",
   "metadata": {},
   "source": [
    "## Directories for the training, validation, and test splits"
   ]
  },
  {
   "cell_type": "code",
   "execution_count": 6,
   "id": "567879a2",
   "metadata": {},
   "outputs": [],
   "source": [
    "# Train Directory\n",
    "train_dir = os.path.join(base_dir, 'train')\n",
    "os.mkdir(train_dir)\n",
    "\n",
    "# Validation Directory\n",
    "validation_dir = os.path.join(base_dir, 'validation')\n",
    "os.mkdir(validation_dir)\n",
    "\n",
    "# Test Directory\n",
    "test_dir = os.path.join(base_dir, 'test')\n",
    "os.mkdir(test_dir)"
   ]
  },
  {
   "cell_type": "markdown",
   "id": "68152cd7",
   "metadata": {},
   "source": [
    "## Sub Directory with \"training\" cat and dog pictures"
   ]
  },
  {
   "cell_type": "code",
   "execution_count": 7,
   "id": "550f93f1",
   "metadata": {},
   "outputs": [],
   "source": [
    "# Cat Picture Directory\n",
    "train_cats_dir = os.path.join(train_dir, 'cats')\n",
    "os.mkdir(train_cats_dir)\n",
    "\n",
    "# Dog Picture Directory\n",
    "train_dogs_dir = os.path.join(train_dir, 'dogs')\n",
    "os.mkdir(train_dogs_dir)"
   ]
  },
  {
   "cell_type": "markdown",
   "id": "06d99e6b",
   "metadata": {},
   "source": [
    "## Sub Directory with \"validation\" cat and dog pictures"
   ]
  },
  {
   "cell_type": "code",
   "execution_count": 8,
   "id": "d2f3c4d3",
   "metadata": {},
   "outputs": [],
   "source": [
    "# Cat Picture Directory\n",
    "validation_cats_dir = os.path.join(validation_dir, 'cats')\n",
    "os.mkdir(validation_cats_dir)\n",
    "\n",
    "# Dog Picture Directory\n",
    "validation_dogs_dir = os.path.join(validation_dir, 'dogs')\n",
    "os.mkdir(validation_dogs_dir)"
   ]
  },
  {
   "cell_type": "markdown",
   "id": "b4192d38",
   "metadata": {},
   "source": [
    "## Sub Directory with \"test\" cat and dog pictures"
   ]
  },
  {
   "cell_type": "code",
   "execution_count": 9,
   "id": "af7ae669",
   "metadata": {},
   "outputs": [],
   "source": [
    "# Cat Picture Directory\n",
    "test_cats_dir = os.path.join(test_dir, 'cats')\n",
    "os.mkdir(test_cats_dir)\n",
    "\n",
    "# Dog Picture Directory\n",
    "test_dogs_dir = os.path.join(test_dir, 'dogs')\n",
    "os.mkdir(test_dogs_dir)"
   ]
  },
  {
   "cell_type": "markdown",
   "id": "3ece9de5",
   "metadata": {},
   "source": [
    "# Copying Files"
   ]
  },
  {
   "cell_type": "markdown",
   "id": "94281e7d",
   "metadata": {},
   "source": [
    "## i. Copies the first \"1,000\" cat images to \"train cats directory\""
   ]
  },
  {
   "cell_type": "code",
   "execution_count": 10,
   "id": "e6e8f370",
   "metadata": {},
   "outputs": [],
   "source": [
    "fnames = ['cat.{}.jpg'.format(i) for i in range(1000)]\n",
    "for fname in fnames:\n",
    "    src = os.path.join(original_dataset_dir, fname)\n",
    "    dst = os.path.join(train_cats_dir, fname)\n",
    "    shutil.copyfile(src, dst)"
   ]
  },
  {
   "cell_type": "markdown",
   "id": "8fd33180",
   "metadata": {},
   "source": [
    "## ii. Copies the next \"500\" cat images to \"validation cats directory\""
   ]
  },
  {
   "cell_type": "code",
   "execution_count": 12,
   "id": "5ba9cb07",
   "metadata": {},
   "outputs": [],
   "source": [
    "fnames = ['cat.{}.jpg'.format(i) for i in range(1000, 1500)]\n",
    "for fname in fnames:\n",
    "    src = os.path.join(original_dataset_dir, fname)\n",
    "    dst = os.path.join(validation_cats_dir, fname)\n",
    "    shutil.copyfile(src, dst)"
   ]
  },
  {
   "cell_type": "markdown",
   "id": "85a2e927",
   "metadata": {},
   "source": [
    "## iii. Copies the next \"500\" cat images to \"test cats directory\""
   ]
  },
  {
   "cell_type": "code",
   "execution_count": 13,
   "id": "13e00e34",
   "metadata": {},
   "outputs": [],
   "source": [
    "fnames = ['cat.{}.jpg'.format(i) for i in range(1500, 2000)]\n",
    "for fname in fnames:\n",
    "    src = os.path.join(original_dataset_dir, fname)\n",
    "    dst = os.path.join(test_cats_dir, fname)\n",
    "    shutil.copyfile(src, dst)"
   ]
  },
  {
   "cell_type": "markdown",
   "id": "2cfe440c",
   "metadata": {},
   "source": [
    "## iv. Copies the first \"1,000\" cat images to \"train dog directory\""
   ]
  },
  {
   "cell_type": "code",
   "execution_count": 14,
   "id": "21e1bec2",
   "metadata": {},
   "outputs": [],
   "source": [
    "fnames = ['dog.{}.jpg'.format(i) for i in range(1000)]\n",
    "for fname in fnames:\n",
    "    src = os.path.join(original_dataset_dir, fname)\n",
    "    dst = os.path.join(train_dogs_dir, fname)\n",
    "    shutil.copyfile(src, dst)"
   ]
  },
  {
   "cell_type": "markdown",
   "id": "a6947727",
   "metadata": {},
   "source": [
    "## v. Copies the next \"500\" dog images to \"validation dog directory\""
   ]
  },
  {
   "cell_type": "code",
   "execution_count": 16,
   "id": "788e1ebd",
   "metadata": {},
   "outputs": [],
   "source": [
    "fnames = ['dog.{}.jpg'.format(i) for i in range(1000, 1500)]\n",
    "for fname in fnames:\n",
    "    src = os.path.join(original_dataset_dir, fname)\n",
    "    dst = os.path.join(validation_dogs_dir, fname)\n",
    "    shutil.copyfile(src, dst)"
   ]
  },
  {
   "cell_type": "markdown",
   "id": "d4a34f3a",
   "metadata": {},
   "source": [
    "## vi. Copies the next \"500\" dog images to \"test dog directory\""
   ]
  },
  {
   "cell_type": "code",
   "execution_count": 17,
   "id": "7fd7108b",
   "metadata": {},
   "outputs": [],
   "source": [
    "fnames = ['dog.{}.jpg'.format(i) for i in range(1500, 2000)]\n",
    "for fname in fnames:\n",
    "    src = os.path.join(original_dataset_dir, fname)\n",
    "    dst = os.path.join(test_dogs_dir, fname)\n",
    "    shutil.copyfile(src, dst)"
   ]
  },
  {
   "cell_type": "code",
   "execution_count": null,
   "id": "3944cc49",
   "metadata": {},
   "outputs": [],
   "source": []
  }
 ],
 "metadata": {
  "kernelspec": {
   "display_name": "Python 3",
   "language": "python",
   "name": "python3"
  },
  "language_info": {
   "codemirror_mode": {
    "name": "ipython",
    "version": 3
   },
   "file_extension": ".py",
   "mimetype": "text/x-python",
   "name": "python",
   "nbconvert_exporter": "python",
   "pygments_lexer": "ipython3",
   "version": "3.8.8"
  }
 },
 "nbformat": 4,
 "nbformat_minor": 5
}
