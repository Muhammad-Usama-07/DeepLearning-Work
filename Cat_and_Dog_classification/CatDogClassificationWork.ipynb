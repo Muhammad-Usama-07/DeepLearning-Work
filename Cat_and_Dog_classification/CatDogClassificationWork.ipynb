{
 "cells": [
  {
   "cell_type": "markdown",
   "id": "40f74b9b",
   "metadata": {},
   "source": [
    "# Libraries"
   ]
  },
  {
   "cell_type": "code",
   "execution_count": 4,
   "id": "9f4bae7a",
   "metadata": {},
   "outputs": [],
   "source": [
    "import pandas as pd\n",
    "import numpy as np\n",
    "import os, shutil\n",
    "from tensorflow.keras import models\n",
    "from tensorflow.keras import layers "
   ]
  },
  {
   "cell_type": "markdown",
   "id": "2604ac86",
   "metadata": {},
   "source": [
    "# Taking Orignal Data"
   ]
  },
  {
   "cell_type": "code",
   "execution_count": 3,
   "id": "ca9d8f4d",
   "metadata": {},
   "outputs": [],
   "source": [
    "original_dataset_dir = 'F:/Saylani.ai/Artificial Intelligence/dogs-vs-cats/train'"
   ]
  },
  {
   "cell_type": "markdown",
   "id": "49f81f72",
   "metadata": {},
   "source": [
    "# Creating Base Directory"
   ]
  },
  {
   "cell_type": "code",
   "execution_count": 5,
   "id": "7bd57d9a",
   "metadata": {},
   "outputs": [],
   "source": [
    "base_dir = 'F:/Saylani.ai/Artificial Intelligence/DeepLearning-Work/Cat_and_Dog_classification/Data'\n",
    "os.mkdir(base_dir)"
   ]
  },
  {
   "cell_type": "markdown",
   "id": "f2d6dab4",
   "metadata": {},
   "source": [
    "## Directories for the training, validation, and test splits"
   ]
  },
  {
   "cell_type": "code",
   "execution_count": 6,
   "id": "893ced77",
   "metadata": {},
   "outputs": [],
   "source": [
    "# Train Directory\n",
    "train_dir = os.path.join(base_dir, 'train')\n",
    "os.mkdir(train_dir)\n",
    "\n",
    "# Validation Directory\n",
    "validation_dir = os.path.join(base_dir, 'validation')\n",
    "os.mkdir(validation_dir)\n",
    "\n",
    "# Test Directory\n",
    "test_dir = os.path.join(base_dir, 'test')\n",
    "os.mkdir(test_dir)"
   ]
  },
  {
   "cell_type": "markdown",
   "id": "23fc2397",
   "metadata": {},
   "source": [
    "## Sub Directory with \"training\" cat and dog pictures"
   ]
  },
  {
   "cell_type": "code",
   "execution_count": 7,
   "id": "4f0e38f9",
   "metadata": {},
   "outputs": [],
   "source": [
    "# Cat Picture Directory\n",
    "train_cats_dir = os.path.join(train_dir, 'cats')\n",
    "os.mkdir(train_cats_dir)\n",
    "\n",
    "# Dog Picture Directory\n",
    "train_dogs_dir = os.path.join(train_dir, 'dogs')\n",
    "os.mkdir(train_dogs_dir)"
   ]
  },
  {
   "cell_type": "markdown",
   "id": "a62a987f",
   "metadata": {},
   "source": [
    "## Sub Directory with \"validation\" cat and dog pictures"
   ]
  },
  {
   "cell_type": "code",
   "execution_count": 8,
   "id": "bafc7e03",
   "metadata": {},
   "outputs": [],
   "source": [
    "# Cat Picture Directory\n",
    "validation_cats_dir = os.path.join(validation_dir, 'cats')\n",
    "os.mkdir(validation_cats_dir)\n",
    "\n",
    "# Dog Picture Directory\n",
    "validation_dogs_dir = os.path.join(validation_dir, 'dogs')\n",
    "os.mkdir(validation_dogs_dir)"
   ]
  },
  {
   "cell_type": "markdown",
   "id": "2dc334dc",
   "metadata": {},
   "source": [
    "## Sub Directory with \"test\" cat and dog pictures"
   ]
  },
  {
   "cell_type": "code",
   "execution_count": 9,
   "id": "d9eeef18",
   "metadata": {},
   "outputs": [],
   "source": [
    "# Cat Picture Directory\n",
    "test_cats_dir = os.path.join(test_dir, 'cats')\n",
    "os.mkdir(test_cats_dir)\n",
    "\n",
    "# Dog Picture Directory\n",
    "test_dogs_dir = os.path.join(test_dir, 'dogs')\n",
    "os.mkdir(test_dogs_dir)"
   ]
  },
  {
   "cell_type": "markdown",
   "id": "ef51bfef",
   "metadata": {},
   "source": [
    "# Copying Files"
   ]
  },
  {
   "cell_type": "markdown",
   "id": "452c5e26",
   "metadata": {},
   "source": [
    "## i. Copies the first \"1,000\" cat images to \"train cats directory\""
   ]
  },
  {
   "cell_type": "code",
   "execution_count": 10,
   "id": "6e476c39",
   "metadata": {},
   "outputs": [],
   "source": [
    "fnames = ['cat.{}.jpg'.format(i) for i in range(1000)]\n",
    "for fname in fnames:\n",
    "    src = os.path.join(original_dataset_dir, fname)\n",
    "    dst = os.path.join(train_cats_dir, fname)\n",
    "    shutil.copyfile(src, dst)"
   ]
  },
  {
   "cell_type": "markdown",
   "id": "5f3bce27",
   "metadata": {},
   "source": [
    "## ii. Copies the next \"500\" cat images to \"validation cats directory\""
   ]
  },
  {
   "cell_type": "code",
   "execution_count": 12,
   "id": "7de4f4c3",
   "metadata": {},
   "outputs": [],
   "source": [
    "fnames = ['cat.{}.jpg'.format(i) for i in range(1000, 1500)]\n",
    "for fname in fnames:\n",
    "    src = os.path.join(original_dataset_dir, fname)\n",
    "    dst = os.path.join(validation_cats_dir, fname)\n",
    "    shutil.copyfile(src, dst)"
   ]
  },
  {
   "cell_type": "markdown",
   "id": "ef8b3565",
   "metadata": {},
   "source": [
    "## iii. Copies the next \"500\" cat images to \"test cats directory\""
   ]
  },
  {
   "cell_type": "code",
   "execution_count": 13,
   "id": "b58b6c07",
   "metadata": {},
   "outputs": [],
   "source": [
    "fnames = ['cat.{}.jpg'.format(i) for i in range(1500, 2000)]\n",
    "for fname in fnames:\n",
    "    src = os.path.join(original_dataset_dir, fname)\n",
    "    dst = os.path.join(test_cats_dir, fname)\n",
    "    shutil.copyfile(src, dst)"
   ]
  },
  {
   "cell_type": "markdown",
   "id": "19ff7004",
   "metadata": {},
   "source": [
    "## iv. Copies the first \"1,000\" cat images to \"train dog directory\""
   ]
  },
  {
   "cell_type": "code",
   "execution_count": 14,
   "id": "512f7d15",
   "metadata": {},
   "outputs": [],
   "source": [
    "fnames = ['dog.{}.jpg'.format(i) for i in range(1000)]\n",
    "for fname in fnames:\n",
    "    src = os.path.join(original_dataset_dir, fname)\n",
    "    dst = os.path.join(train_dogs_dir, fname)\n",
    "    shutil.copyfile(src, dst)"
   ]
  },
  {
   "cell_type": "markdown",
   "id": "20923cf0",
   "metadata": {},
   "source": [
    "## v. Copies the next \"500\" dog images to \"validation dog directory\""
   ]
  },
  {
   "cell_type": "code",
   "execution_count": 16,
   "id": "87182c22",
   "metadata": {},
   "outputs": [],
   "source": [
    "fnames = ['dog.{}.jpg'.format(i) for i in range(1000, 1500)]\n",
    "for fname in fnames:\n",
    "    src = os.path.join(original_dataset_dir, fname)\n",
    "    dst = os.path.join(validation_dogs_dir, fname)\n",
    "    shutil.copyfile(src, dst)"
   ]
  },
  {
   "cell_type": "markdown",
   "id": "2d2c4e25",
   "metadata": {},
   "source": [
    "## vi. Copies the next \"500\" dog images to \"test dog directory\""
   ]
  },
  {
   "cell_type": "code",
   "execution_count": 17,
   "id": "16c3312b",
   "metadata": {},
   "outputs": [],
   "source": [
    "fnames = ['dog.{}.jpg'.format(i) for i in range(1500, 2000)]\n",
    "for fname in fnames:\n",
    "    src = os.path.join(original_dataset_dir, fname)\n",
    "    dst = os.path.join(test_dogs_dir, fname)\n",
    "    shutil.copyfile(src, dst)"
   ]
  },
  {
   "cell_type": "markdown",
   "id": "6f55fe61",
   "metadata": {},
   "source": [
    "# check, how many pictures are in each training split (train/validation/test)"
   ]
  },
  {
   "cell_type": "code",
   "execution_count": 19,
   "id": "3db4d97a",
   "metadata": {},
   "outputs": [
    {
     "name": "stdout",
     "output_type": "stream",
     "text": [
      "total training cat images: 1000\n",
      "total training dog images: 1000\n",
      "total validation cat images: 500\n",
      "total validation dog images: 500\n",
      "total test cat images: 500\n",
      "total test dog images: 500\n"
     ]
    }
   ],
   "source": [
    "print('total training cat images:', len(os.listdir(train_cats_dir)))\n",
    "print('total training dog images:', len(os.listdir(train_dogs_dir)))\n",
    "print('total validation cat images:', len(os.listdir(validation_cats_dir)))\n",
    "print('total validation dog images:', len(os.listdir(validation_dogs_dir)))\n",
    "print('total test cat images:', len(os.listdir(test_cats_dir)))\n",
    "print('total test dog images:', len(os.listdir(test_dogs_dir)))"
   ]
  },
  {
   "cell_type": "markdown",
   "id": "063f7127",
   "metadata": {},
   "source": [
    "# Building Model"
   ]
  },
  {
   "cell_type": "code",
   "execution_count": 20,
   "id": "3f269512",
   "metadata": {},
   "outputs": [],
   "source": [
    "from tensorflow.keras import layers\n",
    "from tensorflow.keras import models\n",
    "model = models.Sequential()\n",
    "model.add(layers.Conv2D(32, (3, 3), activation='relu',\n",
    "input_shape=(150, 150, 3)))\n",
    "model.add(layers.MaxPooling2D((2, 2)))\n",
    "model.add(layers.Conv2D(64, (3, 3), activation='relu'))\n",
    "model.add(layers.MaxPooling2D((2, 2)))\n",
    "model.add(layers.Conv2D(128, (3, 3), activation='relu'))\n",
    "model.add(layers.MaxPooling2D((2, 2)))\n",
    "model.add(layers.Conv2D(128, (3, 3), activation='relu'))\n",
    "model.add(layers.MaxPooling2D((2, 2)))\n",
    "model.add(layers.Flatten())\n",
    "model.add(layers.Dense(512, activation='relu'))\n",
    "model.add(layers.Dense(1, activation='sigmoid'))"
   ]
  },
  {
   "cell_type": "code",
   "execution_count": 21,
   "id": "d5326162",
   "metadata": {},
   "outputs": [
    {
     "name": "stdout",
     "output_type": "stream",
     "text": [
      "Model: \"sequential\"\n",
      "_________________________________________________________________\n",
      "Layer (type)                 Output Shape              Param #   \n",
      "=================================================================\n",
      "conv2d (Conv2D)              (None, 148, 148, 32)      896       \n",
      "_________________________________________________________________\n",
      "max_pooling2d (MaxPooling2D) (None, 74, 74, 32)        0         \n",
      "_________________________________________________________________\n",
      "conv2d_1 (Conv2D)            (None, 72, 72, 64)        18496     \n",
      "_________________________________________________________________\n",
      "max_pooling2d_1 (MaxPooling2 (None, 36, 36, 64)        0         \n",
      "_________________________________________________________________\n",
      "conv2d_2 (Conv2D)            (None, 34, 34, 128)       73856     \n",
      "_________________________________________________________________\n",
      "max_pooling2d_2 (MaxPooling2 (None, 17, 17, 128)       0         \n",
      "_________________________________________________________________\n",
      "conv2d_3 (Conv2D)            (None, 15, 15, 128)       147584    \n",
      "_________________________________________________________________\n",
      "max_pooling2d_3 (MaxPooling2 (None, 7, 7, 128)         0         \n",
      "_________________________________________________________________\n",
      "flatten (Flatten)            (None, 6272)              0         \n",
      "_________________________________________________________________\n",
      "dense (Dense)                (None, 512)               3211776   \n",
      "_________________________________________________________________\n",
      "dense_1 (Dense)              (None, 1)                 513       \n",
      "=================================================================\n",
      "Total params: 3,453,121\n",
      "Trainable params: 3,453,121\n",
      "Non-trainable params: 0\n",
      "_________________________________________________________________\n"
     ]
    }
   ],
   "source": [
    "model.summary()"
   ]
  },
  {
   "cell_type": "code",
   "execution_count": null,
   "id": "2f2d99f0",
   "metadata": {},
   "outputs": [],
   "source": []
  }
 ],
 "metadata": {
  "kernelspec": {
   "display_name": "Python 3",
   "language": "python",
   "name": "python3"
  },
  "language_info": {
   "codemirror_mode": {
    "name": "ipython",
    "version": 3
   },
   "file_extension": ".py",
   "mimetype": "text/x-python",
   "name": "python",
   "nbconvert_exporter": "python",
   "pygments_lexer": "ipython3",
   "version": "3.8.8"
  }
 },
 "nbformat": 4,
 "nbformat_minor": 5
}
