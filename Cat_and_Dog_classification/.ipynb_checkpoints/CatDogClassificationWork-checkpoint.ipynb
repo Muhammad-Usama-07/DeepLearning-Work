{
 "cells": [
  {
   "cell_type": "markdown",
   "id": "f51c1f17",
   "metadata": {},
   "source": [
    "# Libraries"
   ]
  },
  {
   "cell_type": "code",
   "execution_count": 4,
   "id": "eb66ba33",
   "metadata": {},
   "outputs": [],
   "source": [
    "import pandas as pd\n",
    "import numpy as np\n",
    "import os, shutil\n",
    "from tensorflow.keras import models\n",
    "from tensorflow.keras import layers "
   ]
  },
  {
   "cell_type": "markdown",
   "id": "43ec3fad",
   "metadata": {},
   "source": [
    "# Taking Orignal Data"
   ]
  },
  {
   "cell_type": "code",
   "execution_count": 3,
   "id": "60795110",
   "metadata": {},
   "outputs": [],
   "source": [
    "original_dataset_dir = 'F:/Saylani.ai/Artificial Intelligence/dogs-vs-cats/train'"
   ]
  },
  {
   "cell_type": "markdown",
   "id": "eabc82ae",
   "metadata": {},
   "source": [
    "# Creating Base Directory"
   ]
  },
  {
   "cell_type": "code",
   "execution_count": 5,
   "id": "237cdc98",
   "metadata": {},
   "outputs": [],
   "source": [
    "base_dir = 'F:/Saylani.ai/Artificial Intelligence/DeepLearning-Work/Cat_and_Dog_classification/Data'\n",
    "os.mkdir(base_dir)"
   ]
  },
  {
   "cell_type": "markdown",
   "id": "ae00c148",
   "metadata": {},
   "source": [
    "## Directories for the training, validation, and test splits"
   ]
  },
  {
   "cell_type": "code",
   "execution_count": 6,
   "id": "250bd4df",
   "metadata": {},
   "outputs": [],
   "source": [
    "# Train Directory\n",
    "train_dir = os.path.join(base_dir, 'train')\n",
    "os.mkdir(train_dir)\n",
    "\n",
    "# Validation Directory\n",
    "validation_dir = os.path.join(base_dir, 'validation')\n",
    "os.mkdir(validation_dir)\n",
    "\n",
    "# Test Directory\n",
    "test_dir = os.path.join(base_dir, 'test')\n",
    "os.mkdir(test_dir)"
   ]
  },
  {
   "cell_type": "markdown",
   "id": "158aef8d",
   "metadata": {},
   "source": [
    "## Sub Directory with \"training\" cat and dog pictures"
   ]
  },
  {
   "cell_type": "code",
   "execution_count": 7,
   "id": "9f780214",
   "metadata": {},
   "outputs": [],
   "source": [
    "# Cat Picture Directory\n",
    "train_cats_dir = os.path.join(train_dir, 'cats')\n",
    "os.mkdir(train_cats_dir)\n",
    "\n",
    "# Dog Picture Directory\n",
    "train_dogs_dir = os.path.join(train_dir, 'dogs')\n",
    "os.mkdir(train_dogs_dir)"
   ]
  },
  {
   "cell_type": "markdown",
   "id": "bc59c8b8",
   "metadata": {},
   "source": [
    "## Sub Directory with \"validation\" cat and dog pictures"
   ]
  },
  {
   "cell_type": "code",
   "execution_count": 8,
   "id": "6cc442fe",
   "metadata": {},
   "outputs": [],
   "source": [
    "# Cat Picture Directory\n",
    "validation_cats_dir = os.path.join(validation_dir, 'cats')\n",
    "os.mkdir(validation_cats_dir)\n",
    "\n",
    "# Dog Picture Directory\n",
    "validation_dogs_dir = os.path.join(validation_dir, 'dogs')\n",
    "os.mkdir(validation_dogs_dir)"
   ]
  },
  {
   "cell_type": "markdown",
   "id": "50a1f6a2",
   "metadata": {},
   "source": [
    "## Sub Directory with \"test\" cat and dog pictures"
   ]
  },
  {
   "cell_type": "code",
   "execution_count": 9,
   "id": "ff8efd0d",
   "metadata": {},
   "outputs": [],
   "source": [
    "# Cat Picture Directory\n",
    "test_cats_dir = os.path.join(test_dir, 'cats')\n",
    "os.mkdir(test_cats_dir)\n",
    "\n",
    "# Dog Picture Directory\n",
    "test_dogs_dir = os.path.join(test_dir, 'dogs')\n",
    "os.mkdir(test_dogs_dir)"
   ]
  },
  {
   "cell_type": "code",
   "execution_count": null,
   "id": "4d283631",
   "metadata": {},
   "outputs": [],
   "source": []
  }
 ],
 "metadata": {
  "kernelspec": {
   "display_name": "Python 3",
   "language": "python",
   "name": "python3"
  },
  "language_info": {
   "codemirror_mode": {
    "name": "ipython",
    "version": 3
   },
   "file_extension": ".py",
   "mimetype": "text/x-python",
   "name": "python",
   "nbconvert_exporter": "python",
   "pygments_lexer": "ipython3",
   "version": "3.8.8"
  }
 },
 "nbformat": 4,
 "nbformat_minor": 5
}
