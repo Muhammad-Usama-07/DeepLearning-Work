{
 "cells": [
  {
   "cell_type": "markdown",
   "id": "f323300b",
   "metadata": {},
   "source": [
    "# Libraries"
   ]
  },
  {
   "cell_type": "code",
   "execution_count": 4,
   "id": "6a9fe618",
   "metadata": {},
   "outputs": [],
   "source": [
    "import pandas as pd\n",
    "import numpy as np\n",
    "import os, shutil\n",
    "from tensorflow.keras import models\n",
    "from tensorflow.keras import layers "
   ]
  },
  {
   "cell_type": "markdown",
   "id": "15a49f26",
   "metadata": {},
   "source": [
    "# Taking Orignal Data"
   ]
  },
  {
   "cell_type": "code",
   "execution_count": 3,
   "id": "9abc66da",
   "metadata": {},
   "outputs": [],
   "source": [
    "original_dataset_dir = 'F:/Saylani.ai/Artificial Intelligence/dogs-vs-cats/train'"
   ]
  },
  {
   "cell_type": "markdown",
   "id": "bc3ff5ca",
   "metadata": {},
   "source": [
    "# Creating Base Directory"
   ]
  },
  {
   "cell_type": "code",
   "execution_count": 5,
   "id": "4d7b20a5",
   "metadata": {},
   "outputs": [],
   "source": [
    "base_dir = 'F:/Saylani.ai/Artificial Intelligence/DeepLearning-Work/Cat_and_Dog_classification/Data'\n",
    "os.mkdir(base_dir)"
   ]
  },
  {
   "cell_type": "markdown",
   "id": "2a9861a7",
   "metadata": {},
   "source": [
    "## Directories for the training, validation, and test splits"
   ]
  },
  {
   "cell_type": "code",
   "execution_count": 6,
   "id": "e0b3beda",
   "metadata": {},
   "outputs": [],
   "source": [
    "# Train Directory\n",
    "train_dir = os.path.join(base_dir, 'train')\n",
    "os.mkdir(train_dir)\n",
    "\n",
    "# Validation Directory\n",
    "validation_dir = os.path.join(base_dir, 'validation')\n",
    "os.mkdir(validation_dir)\n",
    "\n",
    "# Test Directory\n",
    "test_dir = os.path.join(base_dir, 'test')\n",
    "os.mkdir(test_dir)"
   ]
  },
  {
   "cell_type": "markdown",
   "id": "05fe1b1d",
   "metadata": {},
   "source": [
    "## Sub Directory with \"training\" cat and dog pictures"
   ]
  },
  {
   "cell_type": "code",
   "execution_count": 7,
   "id": "be9db3c1",
   "metadata": {},
   "outputs": [],
   "source": [
    "# Cat Picture Directory\n",
    "train_cats_dir = os.path.join(train_dir, 'cats')\n",
    "os.mkdir(train_cats_dir)\n",
    "\n",
    "# Dog Picture Directory\n",
    "train_dogs_dir = os.path.join(train_dir, 'dogs')\n",
    "os.mkdir(train_dogs_dir)"
   ]
  },
  {
   "cell_type": "markdown",
   "id": "3210763c",
   "metadata": {},
   "source": [
    "## Sub Directory with \"validation\" cat and dog pictures"
   ]
  },
  {
   "cell_type": "code",
   "execution_count": 8,
   "id": "82ffaf2f",
   "metadata": {},
   "outputs": [],
   "source": [
    "# Cat Picture Directory\n",
    "validation_cats_dir = os.path.join(validation_dir, 'cats')\n",
    "os.mkdir(validation_cats_dir)\n",
    "\n",
    "# Dog Picture Directory\n",
    "validation_dogs_dir = os.path.join(validation_dir, 'dogs')\n",
    "os.mkdir(validation_dogs_dir)"
   ]
  },
  {
   "cell_type": "markdown",
   "id": "d34c61a5",
   "metadata": {},
   "source": [
    "## Sub Directory with \"test\" cat and dog pictures"
   ]
  },
  {
   "cell_type": "code",
   "execution_count": 9,
   "id": "7abbfb78",
   "metadata": {},
   "outputs": [],
   "source": [
    "# Cat Picture Directory\n",
    "test_cats_dir = os.path.join(test_dir, 'cats')\n",
    "os.mkdir(test_cats_dir)\n",
    "\n",
    "# Dog Picture Directory\n",
    "test_dogs_dir = os.path.join(test_dir, 'dogs')\n",
    "os.mkdir(test_dogs_dir)"
   ]
  },
  {
   "cell_type": "markdown",
   "id": "e8f70fe6",
   "metadata": {},
   "source": [
    "# Copying Files"
   ]
  },
  {
   "cell_type": "markdown",
   "id": "d4a19051",
   "metadata": {},
   "source": [
    "## i. Copies the first \"1,000\" cat images to \"train cats directory\""
   ]
  },
  {
   "cell_type": "code",
   "execution_count": 10,
   "id": "a460bd4d",
   "metadata": {},
   "outputs": [],
   "source": [
    "fnames = ['cat.{}.jpg'.format(i) for i in range(1000)]\n",
    "for fname in fnames:\n",
    "    src = os.path.join(original_dataset_dir, fname)\n",
    "    dst = os.path.join(train_cats_dir, fname)\n",
    "    shutil.copyfile(src, dst)"
   ]
  },
  {
   "cell_type": "markdown",
   "id": "918c1bec",
   "metadata": {},
   "source": [
    "## ii. Copies the next \"500\" cat images to \"validation cats directory\""
   ]
  },
  {
   "cell_type": "code",
   "execution_count": 12,
   "id": "994252c0",
   "metadata": {},
   "outputs": [],
   "source": [
    "fnames = ['cat.{}.jpg'.format(i) for i in range(1000, 1500)]\n",
    "for fname in fnames:\n",
    "    src = os.path.join(original_dataset_dir, fname)\n",
    "    dst = os.path.join(validation_cats_dir, fname)\n",
    "    shutil.copyfile(src, dst)"
   ]
  },
  {
   "cell_type": "markdown",
   "id": "d188aca7",
   "metadata": {},
   "source": [
    "## iii. Copies the next \"500\" cat images to \"test cats directory\""
   ]
  },
  {
   "cell_type": "code",
   "execution_count": 13,
   "id": "2069b673",
   "metadata": {},
   "outputs": [],
   "source": [
    "fnames = ['cat.{}.jpg'.format(i) for i in range(1500, 2000)]\n",
    "for fname in fnames:\n",
    "    src = os.path.join(original_dataset_dir, fname)\n",
    "    dst = os.path.join(test_cats_dir, fname)\n",
    "    shutil.copyfile(src, dst)"
   ]
  },
  {
   "cell_type": "markdown",
   "id": "2ead839e",
   "metadata": {},
   "source": [
    "## iv. Copies the first \"1,000\" cat images to \"train dog directory\""
   ]
  },
  {
   "cell_type": "code",
   "execution_count": 14,
   "id": "de9e1956",
   "metadata": {},
   "outputs": [],
   "source": [
    "fnames = ['dog.{}.jpg'.format(i) for i in range(1000)]\n",
    "for fname in fnames:\n",
    "    src = os.path.join(original_dataset_dir, fname)\n",
    "    dst = os.path.join(train_dogs_dir, fname)\n",
    "    shutil.copyfile(src, dst)"
   ]
  },
  {
   "cell_type": "markdown",
   "id": "14eafeb3",
   "metadata": {},
   "source": [
    "## v. Copies the next \"500\" dog images to \"validation dog directory\""
   ]
  },
  {
   "cell_type": "code",
   "execution_count": 16,
   "id": "92c7148e",
   "metadata": {},
   "outputs": [],
   "source": [
    "fnames = ['dog.{}.jpg'.format(i) for i in range(1000, 1500)]\n",
    "for fname in fnames:\n",
    "    src = os.path.join(original_dataset_dir, fname)\n",
    "    dst = os.path.join(validation_dogs_dir, fname)\n",
    "    shutil.copyfile(src, dst)"
   ]
  },
  {
   "cell_type": "markdown",
   "id": "5b4c99fb",
   "metadata": {},
   "source": [
    "## vi. Copies the next \"500\" dog images to \"test dog directory\""
   ]
  },
  {
   "cell_type": "code",
   "execution_count": 17,
   "id": "62079f1f",
   "metadata": {},
   "outputs": [],
   "source": [
    "fnames = ['dog.{}.jpg'.format(i) for i in range(1500, 2000)]\n",
    "for fname in fnames:\n",
    "    src = os.path.join(original_dataset_dir, fname)\n",
    "    dst = os.path.join(test_dogs_dir, fname)\n",
    "    shutil.copyfile(src, dst)"
   ]
  },
  {
   "cell_type": "markdown",
   "id": "4b3edf88",
   "metadata": {},
   "source": [
    "# check, how many pictures are in each training split (train/validation/test)"
   ]
  },
  {
   "cell_type": "code",
   "execution_count": 19,
   "id": "d750fe6e",
   "metadata": {},
   "outputs": [
    {
     "name": "stdout",
     "output_type": "stream",
     "text": [
      "total training cat images: 1000\n",
      "total training dog images: 1000\n",
      "total validation cat images: 500\n",
      "total validation dog images: 500\n",
      "total test cat images: 500\n",
      "total test dog images: 500\n"
     ]
    }
   ],
   "source": [
    "print('total training cat images:', len(os.listdir(train_cats_dir)))\n",
    "print('total training dog images:', len(os.listdir(train_dogs_dir)))\n",
    "print('total validation cat images:', len(os.listdir(validation_cats_dir)))\n",
    "print('total validation dog images:', len(os.listdir(validation_dogs_dir)))\n",
    "print('total test cat images:', len(os.listdir(test_cats_dir)))\n",
    "print('total test dog images:', len(os.listdir(test_dogs_dir)))"
   ]
  },
  {
   "cell_type": "code",
   "execution_count": null,
   "id": "983fa06b",
   "metadata": {},
   "outputs": [],
   "source": []
  }
 ],
 "metadata": {
  "kernelspec": {
   "display_name": "Python 3",
   "language": "python",
   "name": "python3"
  },
  "language_info": {
   "codemirror_mode": {
    "name": "ipython",
    "version": 3
   },
   "file_extension": ".py",
   "mimetype": "text/x-python",
   "name": "python",
   "nbconvert_exporter": "python",
   "pygments_lexer": "ipython3",
   "version": "3.8.8"
  }
 },
 "nbformat": 4,
 "nbformat_minor": 5
}
