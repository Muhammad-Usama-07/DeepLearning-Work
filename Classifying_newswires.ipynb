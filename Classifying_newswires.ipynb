{
  "nbformat": 4,
  "nbformat_minor": 0,
  "metadata": {
    "colab": {
      "name": "Classifying newswires.ipynb",
      "provenance": [],
      "authorship_tag": "ABX9TyPUMkqKbqCAm+8WlkoAHqMm",
      "include_colab_link": true
    },
    "kernelspec": {
      "name": "python3",
      "display_name": "Python 3"
    },
    "language_info": {
      "name": "python"
    }
  },
  "cells": [
    {
      "cell_type": "markdown",
      "metadata": {
        "id": "view-in-github",
        "colab_type": "text"
      },
      "source": [
        "<a href=\"https://colab.research.google.com/github/Muhammad-Usama-07/DeepLearning-Work/blob/main/Classifying_newswires.ipynb\" target=\"_parent\"><img src=\"https://colab.research.google.com/assets/colab-badge.svg\" alt=\"Open In Colab\"/></a>"
      ]
    },
    {
      "cell_type": "markdown",
      "metadata": {
        "id": "OBKA25KZ-Zy4"
      },
      "source": [
        "# Classifying newswires"
      ]
    },
    {
      "cell_type": "code",
      "metadata": {
        "id": "jwBhhQxU-bn-"
      },
      "source": [
        ""
      ],
      "execution_count": null,
      "outputs": []
    },
    {
      "cell_type": "markdown",
      "metadata": {
        "id": "TYKDSljb_LxH"
      },
      "source": [
        "# Loading the Reuters dataset"
      ]
    },
    {
      "cell_type": "code",
      "metadata": {
        "colab": {
          "base_uri": "https://localhost:8080/"
        },
        "id": "ewCJUyap_NdO",
        "outputId": "2eeed34e-8a53-46da-b00d-01c4bd4387f6"
      },
      "source": [
        "from keras.datasets import reuters\n",
        "(train_data, train_labels), (test_data, test_labels) = reuters.load_data(\n",
        "num_words=10000)"
      ],
      "execution_count": 16,
      "outputs": [
        {
          "output_type": "stream",
          "text": [
            "/usr/local/lib/python3.7/dist-packages/keras/datasets/reuters.py:143: VisibleDeprecationWarning: Creating an ndarray from ragged nested sequences (which is a list-or-tuple of lists-or-tuples-or ndarrays with different lengths or shapes) is deprecated. If you meant to do this, you must specify 'dtype=object' when creating the ndarray\n",
            "  x_train, y_train = np.array(xs[:idx]), np.array(labels[:idx])\n",
            "/usr/local/lib/python3.7/dist-packages/keras/datasets/reuters.py:144: VisibleDeprecationWarning: Creating an ndarray from ragged nested sequences (which is a list-or-tuple of lists-or-tuples-or ndarrays with different lengths or shapes) is deprecated. If you meant to do this, you must specify 'dtype=object' when creating the ndarray\n",
            "  x_test, y_test = np.array(xs[idx:]), np.array(labels[idx:])\n"
          ],
          "name": "stderr"
        }
      ]
    },
    {
      "cell_type": "markdown",
      "metadata": {
        "id": "mJfUCMvc_uMG"
      },
      "source": [
        "# Checking lengh OF DATA"
      ]
    },
    {
      "cell_type": "code",
      "metadata": {
        "colab": {
          "base_uri": "https://localhost:8080/"
        },
        "id": "7mTJTrmQ_fwx",
        "outputId": "0bd09598-4813-454e-e623-13f9968cadec"
      },
      "source": [
        "len(train_data)"
      ],
      "execution_count": 17,
      "outputs": [
        {
          "output_type": "execute_result",
          "data": {
            "text/plain": [
              "8982"
            ]
          },
          "metadata": {
            "tags": []
          },
          "execution_count": 17
        }
      ]
    },
    {
      "cell_type": "code",
      "metadata": {
        "colab": {
          "base_uri": "https://localhost:8080/"
        },
        "id": "fSJPA5_3_6aO",
        "outputId": "f9ac5585-d66d-42bb-e316-d186a6b5c864"
      },
      "source": [
        " len(test_data)"
      ],
      "execution_count": 18,
      "outputs": [
        {
          "output_type": "execute_result",
          "data": {
            "text/plain": [
              "2246"
            ]
          },
          "metadata": {
            "tags": []
          },
          "execution_count": 18
        }
      ]
    },
    {
      "cell_type": "markdown",
      "metadata": {
        "id": "7z4kx8olAIIV"
      },
      "source": [
        "# Decoding newswires back to text"
      ]
    },
    {
      "cell_type": "code",
      "metadata": {
        "id": "ELtb6v5p_8u9"
      },
      "source": [
        "word_index = reuters.get_word_index()\n",
        "reverse_word_index = dict([(value, key) for (key, value) in word_index.items()])\n",
        "decoded_newswire = ' '.join([reverse_word_index.get(i - 3, '?') for i in\n",
        "train_data[0]])"
      ],
      "execution_count": 19,
      "outputs": []
    },
    {
      "cell_type": "code",
      "metadata": {
        "colab": {
          "base_uri": "https://localhost:8080/",
          "height": 71
        },
        "id": "qN-2SS6vAOO1",
        "outputId": "d498d74b-3fcb-4e8c-a122-0795932d5c67"
      },
      "source": [
        "decoded_newswire"
      ],
      "execution_count": 20,
      "outputs": [
        {
          "output_type": "execute_result",
          "data": {
            "application/vnd.google.colaboratory.intrinsic+json": {
              "type": "string"
            },
            "text/plain": [
              "'? ? ? said as a result of its december acquisition of space co it expects earnings per share in 1987 of 1 15 to 1 30 dlrs per share up from 70 cts in 1986 the company said pretax net should rise to nine to 10 mln dlrs from six mln dlrs in 1986 and rental operation revenues to 19 to 22 mln dlrs from 12 5 mln dlrs it said cash flow per share this year should be 2 50 to three dlrs reuter 3'"
            ]
          },
          "metadata": {
            "tags": []
          },
          "execution_count": 20
        }
      ]
    },
    {
      "cell_type": "markdown",
      "metadata": {
        "id": "rpetaUGwBP8c"
      },
      "source": [
        "# Preparing the data"
      ]
    },
    {
      "cell_type": "code",
      "metadata": {
        "id": "x29lPO_pAScM"
      },
      "source": [
        "# Encoding the data\n",
        "import numpy as np\n",
        "def vectorize_sequences(sequences, dimension=10000):\n",
        "  results = np.zeros((len(sequences), dimension))\n",
        "  for i, sequence in enumerate(sequences):\n",
        "    results[i, sequence] = 1.\n",
        "  return results\n",
        "x_train = vectorize_sequences(train_data) # Vectorized training data\n",
        "x_test = vectorize_sequences(test_data)   # Vectorized test data"
      ],
      "execution_count": 21,
      "outputs": []
    },
    {
      "cell_type": "code",
      "metadata": {
        "id": "pepht9OSBgvi"
      },
      "source": [
        "# one-hot-encoding\n",
        "from keras.utils.np_utils import to_categorical\n",
        "one_hot_train_labels = to_categorical(train_labels)\n",
        "one_hot_test_labels = to_categorical(test_labels)"
      ],
      "execution_count": 22,
      "outputs": []
    },
    {
      "cell_type": "markdown",
      "metadata": {
        "id": "pz6h99oPEBLi"
      },
      "source": [
        "#  Definng Model "
      ]
    },
    {
      "cell_type": "code",
      "metadata": {
        "id": "JRWeokaSCnJR"
      },
      "source": [
        "from keras import models\n",
        "from keras import layers\n",
        "model = models.Sequential()\n",
        "model.add(layers.Dense(64, activation='relu', input_shape=(10000,)))\n",
        "model.add(layers.Dense(64, activation='relu'))\n",
        "model.add(layers.Dense(46, activation='softmax'))"
      ],
      "execution_count": 23,
      "outputs": []
    },
    {
      "cell_type": "markdown",
      "metadata": {
        "id": "sO0MKwl_EQt4"
      },
      "source": [
        "# Compiling the model\n"
      ]
    },
    {
      "cell_type": "code",
      "metadata": {
        "id": "nYrkkwlLEIwR"
      },
      "source": [
        "model.compile(optimizer='rmsprop',\n",
        "loss='categorical_crossentropy',\n",
        "metrics=['accuracy'])"
      ],
      "execution_count": 24,
      "outputs": []
    },
    {
      "cell_type": "markdown",
      "metadata": {
        "id": "M765GOmHEU1Q"
      },
      "source": [
        "# Making Validation Data"
      ]
    },
    {
      "cell_type": "code",
      "metadata": {
        "id": "XPEbHMuMEegg"
      },
      "source": [
        "x_val = x_train[:1000]\n",
        "partial_x_train = x_train[1000:]\n",
        "y_val = one_hot_train_labels[:1000]\n",
        "partial_y_train = one_hot_train_labels[1000:]"
      ],
      "execution_count": 25,
      "outputs": []
    },
    {
      "cell_type": "markdown",
      "metadata": {
        "id": "EV4skXNZJFsj"
      },
      "source": [
        "# Training the model"
      ]
    },
    {
      "cell_type": "code",
      "metadata": {
        "colab": {
          "base_uri": "https://localhost:8080/"
        },
        "id": "IB_5wdB6EgNe",
        "outputId": "d29924ff-b221-4dab-dbdb-ccc043945570"
      },
      "source": [
        "history = model.fit(partial_x_train,\n",
        "partial_y_train,\n",
        "epochs=20,\n",
        "batch_size=512,\n",
        "validation_data=(x_val, y_val))"
      ],
      "execution_count": 26,
      "outputs": [
        {
          "output_type": "stream",
          "text": [
            "Epoch 1/20\n",
            "16/16 [==============================] - 16s 86ms/step - loss: 3.0402 - accuracy: 0.4163 - val_loss: 1.6808 - val_accuracy: 0.6410\n",
            "Epoch 2/20\n",
            "16/16 [==============================] - 1s 60ms/step - loss: 1.4536 - accuracy: 0.6971 - val_loss: 1.2734 - val_accuracy: 0.7280\n",
            "Epoch 3/20\n",
            "16/16 [==============================] - 1s 63ms/step - loss: 1.0672 - accuracy: 0.7716 - val_loss: 1.1387 - val_accuracy: 0.7450\n",
            "Epoch 4/20\n",
            "16/16 [==============================] - 1s 64ms/step - loss: 0.8621 - accuracy: 0.8078 - val_loss: 1.0354 - val_accuracy: 0.7660\n",
            "Epoch 5/20\n",
            "16/16 [==============================] - 1s 57ms/step - loss: 0.6739 - accuracy: 0.8564 - val_loss: 0.9845 - val_accuracy: 0.7880\n",
            "Epoch 6/20\n",
            "16/16 [==============================] - 1s 51ms/step - loss: 0.5454 - accuracy: 0.8873 - val_loss: 0.9376 - val_accuracy: 0.8050\n",
            "Epoch 7/20\n",
            "16/16 [==============================] - 1s 51ms/step - loss: 0.4300 - accuracy: 0.9144 - val_loss: 0.8913 - val_accuracy: 0.8150\n",
            "Epoch 8/20\n",
            "16/16 [==============================] - 1s 61ms/step - loss: 0.3439 - accuracy: 0.9289 - val_loss: 0.9228 - val_accuracy: 0.8100\n",
            "Epoch 9/20\n",
            "16/16 [==============================] - 1s 63ms/step - loss: 0.2828 - accuracy: 0.9384 - val_loss: 0.8974 - val_accuracy: 0.8170\n",
            "Epoch 10/20\n",
            "16/16 [==============================] - 1s 63ms/step - loss: 0.2258 - accuracy: 0.9508 - val_loss: 0.9004 - val_accuracy: 0.8190\n",
            "Epoch 11/20\n",
            "16/16 [==============================] - 1s 51ms/step - loss: 0.1867 - accuracy: 0.9551 - val_loss: 0.9063 - val_accuracy: 0.8190\n",
            "Epoch 12/20\n",
            "16/16 [==============================] - 1s 61ms/step - loss: 0.1770 - accuracy: 0.9542 - val_loss: 0.9047 - val_accuracy: 0.8200\n",
            "Epoch 13/20\n",
            "16/16 [==============================] - 1s 54ms/step - loss: 0.1638 - accuracy: 0.9573 - val_loss: 0.9573 - val_accuracy: 0.8120\n",
            "Epoch 14/20\n",
            "16/16 [==============================] - 1s 51ms/step - loss: 0.1405 - accuracy: 0.9581 - val_loss: 0.9445 - val_accuracy: 0.8180\n",
            "Epoch 15/20\n",
            "16/16 [==============================] - 1s 53ms/step - loss: 0.1276 - accuracy: 0.9606 - val_loss: 1.0258 - val_accuracy: 0.8110\n",
            "Epoch 16/20\n",
            "16/16 [==============================] - 1s 62ms/step - loss: 0.1194 - accuracy: 0.9611 - val_loss: 0.9851 - val_accuracy: 0.8050\n",
            "Epoch 17/20\n",
            "16/16 [==============================] - 1s 61ms/step - loss: 0.1085 - accuracy: 0.9643 - val_loss: 1.0350 - val_accuracy: 0.8090\n",
            "Epoch 18/20\n",
            "16/16 [==============================] - 1s 52ms/step - loss: 0.1157 - accuracy: 0.9590 - val_loss: 1.0749 - val_accuracy: 0.8000\n",
            "Epoch 19/20\n",
            "16/16 [==============================] - 1s 50ms/step - loss: 0.1017 - accuracy: 0.9635 - val_loss: 1.0535 - val_accuracy: 0.8080\n",
            "Epoch 20/20\n",
            "16/16 [==============================] - 1s 58ms/step - loss: 0.0968 - accuracy: 0.9630 - val_loss: 1.0780 - val_accuracy: 0.8070\n"
          ],
          "name": "stdout"
        }
      ]
    },
    {
      "cell_type": "code",
      "metadata": {
        "id": "E70PXxhHKG_B",
        "outputId": "5f8b83c0-7de0-4ca1-b9c2-ad70fce13a9d",
        "colab": {
          "base_uri": "https://localhost:8080/"
        }
      },
      "source": [
        "history.history"
      ],
      "execution_count": 32,
      "outputs": [
        {
          "output_type": "execute_result",
          "data": {
            "text/plain": [
              "{'accuracy': [0.5248057842254639,\n",
              "  0.7121022343635559,\n",
              "  0.7769982218742371,\n",
              "  0.8193435072898865,\n",
              "  0.8558005690574646,\n",
              "  0.8867451548576355,\n",
              "  0.9104234576225281,\n",
              "  0.9269606471061707,\n",
              "  0.9372338056564331,\n",
              "  0.9453771114349365,\n",
              "  0.9495114088058472,\n",
              "  0.9503883719444275,\n",
              "  0.9543973803520203,\n",
              "  0.9528940320014954,\n",
              "  0.9564018845558167,\n",
              "  0.9555249214172363,\n",
              "  0.9582811594009399,\n",
              "  0.9567777514457703,\n",
              "  0.9580305814743042,\n",
              "  0.9592834115028381],\n",
              " 'loss': [2.5364573001861572,\n",
              "  1.377511739730835,\n",
              "  1.0345079898834229,\n",
              "  0.8277807831764221,\n",
              "  0.6675711870193481,\n",
              "  0.5332559943199158,\n",
              "  0.4333917796611786,\n",
              "  0.3517882525920868,\n",
              "  0.28882521390914917,\n",
              "  0.24578572809696198,\n",
              "  0.21025300025939941,\n",
              "  0.18321622908115387,\n",
              "  0.16904713213443756,\n",
              "  0.15490226447582245,\n",
              "  0.14050762355327606,\n",
              "  0.13610488176345825,\n",
              "  0.12233949452638626,\n",
              "  0.12462124228477478,\n",
              "  0.11847176402807236,\n",
              "  0.10746800154447556],\n",
              " 'val_accuracy': [0.640999972820282,\n",
              "  0.7279999852180481,\n",
              "  0.7450000047683716,\n",
              "  0.765999972820282,\n",
              "  0.7879999876022339,\n",
              "  0.8050000071525574,\n",
              "  0.8149999976158142,\n",
              "  0.8100000023841858,\n",
              "  0.8169999718666077,\n",
              "  0.8190000057220459,\n",
              "  0.8190000057220459,\n",
              "  0.8199999928474426,\n",
              "  0.8119999766349792,\n",
              "  0.8180000185966492,\n",
              "  0.8109999895095825,\n",
              "  0.8050000071525574,\n",
              "  0.8090000152587891,\n",
              "  0.800000011920929,\n",
              "  0.8080000281333923,\n",
              "  0.8069999814033508],\n",
              " 'val_loss': [1.680786371231079,\n",
              "  1.2734262943267822,\n",
              "  1.1387436389923096,\n",
              "  1.0353941917419434,\n",
              "  0.9845162630081177,\n",
              "  0.9375678896903992,\n",
              "  0.8912928104400635,\n",
              "  0.9228156805038452,\n",
              "  0.8973796963691711,\n",
              "  0.9003564715385437,\n",
              "  0.9063449501991272,\n",
              "  0.9047102928161621,\n",
              "  0.9573351144790649,\n",
              "  0.9445287585258484,\n",
              "  1.025766134262085,\n",
              "  0.9851050972938538,\n",
              "  1.0349839925765991,\n",
              "  1.0748873949050903,\n",
              "  1.0534956455230713,\n",
              "  1.0780080556869507]}"
            ]
          },
          "metadata": {
            "tags": []
          },
          "execution_count": 32
        }
      ]
    },
    {
      "cell_type": "markdown",
      "metadata": {
        "id": "VMMPdT1jJJdT"
      },
      "source": [
        "#  Plotting the training and validation loss"
      ]
    },
    {
      "cell_type": "code",
      "metadata": {
        "colab": {
          "base_uri": "https://localhost:8080/",
          "height": 294
        },
        "id": "pyuPrso0Jd2q",
        "outputId": "d57f25b5-6922-459c-ff6c-315f5a1b2f3b"
      },
      "source": [
        "import matplotlib.pyplot as plt\n",
        "loss = history.history['loss']\n",
        "val_loss = history.history['val_loss']\n",
        "epochs = range(1, len(loss) + 1)\n",
        "plt.plot(epochs, loss, 'bo', label='Training loss')\n",
        "plt.plot(epochs, val_loss, 'b', label='Validation loss')\n",
        "plt.title('Training and validation loss')\n",
        "plt.xlabel('Epochs')\n",
        "plt.ylabel('Loss')\n",
        "plt.legend()\n",
        "plt.show()"
      ],
      "execution_count": 27,
      "outputs": [
        {
          "output_type": "display_data",
          "data": {
            "image/png": "[encoded data removed]",
            "text/plain": [
              "<Figure size 432x288 with 1 Axes>"
            ]
          },
          "metadata": {
            "tags": [],
            "needs_background": "light"
          }
        }
      ]
    },
    {
      "cell_type": "markdown",
      "metadata": {
        "id": "1_w9r60sJrhi"
      },
      "source": [
        "# Plotting the training and validation accuracy"
      ]
    },
    {
      "cell_type": "code",
      "metadata": {
        "id": "YF4fKzcfJsmR",
        "outputId": "05a447e2-85a0-4087-da0b-56e405b74263",
        "colab": {
          "base_uri": "https://localhost:8080/",
          "height": 294
        }
      },
      "source": [
        "acc = history.history['accuracy']\n",
        "val_acc = history.history['val_accuracy']\n",
        "plt.plot(epochs, acc, 'bo', label='Training acc')\n",
        "plt.plot(epochs, val_acc, 'b', label='Validation acc')\n",
        "plt.title('Training and validation accuracy')\n",
        "plt.xlabel('Epochs')\n",
        "plt.ylabel('Loss')\n",
        "plt.legend()\n",
        "plt.show()"
      ],
      "execution_count": 34,
      "outputs": [
        {
          "output_type": "display_data",
          "data": {
            "image/png": "[encoded data removed]",
            "text/plain": [
              "<Figure size 432x288 with 1 Axes>"
            ]
          },
          "metadata": {
            "tags": [],
            "needs_background": "light"
          }
        }
      ]
    },
    {
      "cell_type": "code",
      "metadata": {
        "id": "J7jGT2rHJwZb"
      },
      "source": [
        ""
      ],
      "execution_count": null,
      "outputs": []
    }
  ]
}